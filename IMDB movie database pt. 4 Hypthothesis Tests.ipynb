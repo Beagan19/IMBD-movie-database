{
 "cells": [
  {
   "cell_type": "code",
   "execution_count": 1,
   "id": "15fb0b01",
   "metadata": {},
   "outputs": [],
   "source": [
    "import pandas as pd\n",
    "import numpy as np\n",
    "import seaborn as sns\n",
    "import matplotlib.pyplot as plt\n",
    "import json\n",
    "from scipy import stats\n",
    "import scipy\n",
    "from statsmodels.stats.multicomp import pairwise_tukeyhsd"
   ]
  },
  {
   "cell_type": "markdown",
   "id": "a6770457",
   "metadata": {},
   "source": [
    "# Load Data"
   ]
  },
  {
   "cell_type": "code",
   "execution_count": 2,
   "id": "d5d0cf5a",
   "metadata": {},
   "outputs": [],
   "source": [
    "basics = pd.read_csv('Data/title_basics.csv.gz',low_memory = False)\n",
    "akas = pd.read_csv('Data/title_akas.csv.gz',low_memory = False)\n",
    "ratings = pd.read_csv('Data/title_ratings.csv.gz', low_memory = False)\n",
    "year_2000 = pd.read_csv('Data/final_tmdb_data_2000.csv.gz', low_memory = False)\n",
    "year_2001 = pd.read_csv('Data/final_tmdb_data_2001.csv', low_memory = False)\n",
    "year_2010 = pd.read_csv('Data/final_tmdb_data_2010.csv', low_memory = False)\n",
    "year_2011 = pd.read_csv('Data/final_tmdb_data_2011.csv', low_memory = False, lineterminator='\\n')\n",
    "year_2012 = pd.read_csv('Data/final_tmdb_data_2012.csv', low_memory = False, lineterminator='\\n')\n",
    "year_2013 = pd.read_csv('Data/final_tmdb_data_2013.csv', low_memory = False)\n",
    "year_2014 = pd.read_csv('Data/final_tmdb_data_2014.csv', low_memory = False, lineterminator='\\n')\n",
    "year_2015 = pd.read_csv('Data/final_tmdb_data_2015.csv', low_memory = False, lineterminator='\\n')\n",
    "year_2016 = pd.read_csv('Data/final_tmdb_data_2016.csv', low_memory = False)\n",
    "year_2017 = pd.read_csv('Data/final_tmdb_data_2017.csv', low_memory = False, lineterminator='\\n')\n",
    "year_2018 = pd.read_csv('Data/final_tmdb_data_2018.csv', low_memory = False, lineterminator='\\n')\n",
    "year_2019 = pd.read_csv('Data/final_tmdb_data_2019.csv', low_memory = False, lineterminator='\\n')\n",
    "year_2020 = pd.read_csv('Data/final_tmdb_data_2020.csv', low_memory = False, lineterminator='\\n')\n",
    "year_2021 = pd.read_csv('Data/final_tmdb_data_2021.csv', low_memory = False)"
   ]
  },
  {
   "cell_type": "code",
   "execution_count": 3,
   "id": "e00390fe",
   "metadata": {
    "scrolled": true
   },
   "outputs": [
    {
     "data": {
      "text/html": [
       "<div>\n",
       "<style scoped>\n",
       "    .dataframe tbody tr th:only-of-type {\n",
       "        vertical-align: middle;\n",
       "    }\n",
       "\n",
       "    .dataframe tbody tr th {\n",
       "        vertical-align: top;\n",
       "    }\n",
       "\n",
       "    .dataframe thead th {\n",
       "        text-align: right;\n",
       "    }\n",
       "</style>\n",
       "<table border=\"1\" class=\"dataframe\">\n",
       "  <thead>\n",
       "    <tr style=\"text-align: right;\">\n",
       "      <th></th>\n",
       "      <th>imdb_id</th>\n",
       "      <th>adult</th>\n",
       "      <th>backdrop_path</th>\n",
       "      <th>belongs_to_collection</th>\n",
       "      <th>budget</th>\n",
       "      <th>genres</th>\n",
       "      <th>homepage</th>\n",
       "      <th>id</th>\n",
       "      <th>original_language</th>\n",
       "      <th>original_title</th>\n",
       "      <th>...</th>\n",
       "      <th>revenue</th>\n",
       "      <th>runtime</th>\n",
       "      <th>spoken_languages</th>\n",
       "      <th>status</th>\n",
       "      <th>tagline</th>\n",
       "      <th>title</th>\n",
       "      <th>video</th>\n",
       "      <th>vote_average</th>\n",
       "      <th>vote_count</th>\n",
       "      <th>certification</th>\n",
       "    </tr>\n",
       "  </thead>\n",
       "  <tbody>\n",
       "    <tr>\n",
       "      <th>0</th>\n",
       "      <td>0</td>\n",
       "      <td>NaN</td>\n",
       "      <td>NaN</td>\n",
       "      <td>NaN</td>\n",
       "      <td>NaN</td>\n",
       "      <td>NaN</td>\n",
       "      <td>NaN</td>\n",
       "      <td>NaN</td>\n",
       "      <td>NaN</td>\n",
       "      <td>NaN</td>\n",
       "      <td>...</td>\n",
       "      <td>NaN</td>\n",
       "      <td>NaN</td>\n",
       "      <td>NaN</td>\n",
       "      <td>NaN</td>\n",
       "      <td>NaN</td>\n",
       "      <td>NaN</td>\n",
       "      <td>NaN</td>\n",
       "      <td>NaN</td>\n",
       "      <td>NaN</td>\n",
       "      <td>NaN</td>\n",
       "    </tr>\n",
       "    <tr>\n",
       "      <th>1</th>\n",
       "      <td>tt0113026</td>\n",
       "      <td>0.0</td>\n",
       "      <td>/vMFs7nw6P0bIV1jDsQpxAieAVnH.jpg</td>\n",
       "      <td>NaN</td>\n",
       "      <td>10000000.0</td>\n",
       "      <td>[{'id': 35, 'name': 'Comedy'}, {'id': 10402, '...</td>\n",
       "      <td>NaN</td>\n",
       "      <td>62127.0</td>\n",
       "      <td>en</td>\n",
       "      <td>The Fantasticks</td>\n",
       "      <td>...</td>\n",
       "      <td>0.0</td>\n",
       "      <td>86.0</td>\n",
       "      <td>[{'english_name': 'English', 'iso_639_1': 'en'...</td>\n",
       "      <td>Released</td>\n",
       "      <td>Try to remember the first time magic happened</td>\n",
       "      <td>The Fantasticks</td>\n",
       "      <td>0.0</td>\n",
       "      <td>5.50</td>\n",
       "      <td>22.0</td>\n",
       "      <td>NaN</td>\n",
       "    </tr>\n",
       "    <tr>\n",
       "      <th>2</th>\n",
       "      <td>tt0113092</td>\n",
       "      <td>0.0</td>\n",
       "      <td>NaN</td>\n",
       "      <td>NaN</td>\n",
       "      <td>0.0</td>\n",
       "      <td>[{'id': 878, 'name': 'Science Fiction'}]</td>\n",
       "      <td>NaN</td>\n",
       "      <td>110977.0</td>\n",
       "      <td>en</td>\n",
       "      <td>For the Cause</td>\n",
       "      <td>...</td>\n",
       "      <td>0.0</td>\n",
       "      <td>100.0</td>\n",
       "      <td>[{'english_name': 'English', 'iso_639_1': 'en'...</td>\n",
       "      <td>Released</td>\n",
       "      <td>The ultimate showdown on a forbidden planet.</td>\n",
       "      <td>For the Cause</td>\n",
       "      <td>0.0</td>\n",
       "      <td>5.10</td>\n",
       "      <td>8.0</td>\n",
       "      <td>NaN</td>\n",
       "    </tr>\n",
       "    <tr>\n",
       "      <th>3</th>\n",
       "      <td>tt0116391</td>\n",
       "      <td>0.0</td>\n",
       "      <td>NaN</td>\n",
       "      <td>NaN</td>\n",
       "      <td>0.0</td>\n",
       "      <td>[{'id': 18, 'name': 'Drama'}, {'id': 28, 'name...</td>\n",
       "      <td>NaN</td>\n",
       "      <td>442869.0</td>\n",
       "      <td>hi</td>\n",
       "      <td>Gang</td>\n",
       "      <td>...</td>\n",
       "      <td>0.0</td>\n",
       "      <td>152.0</td>\n",
       "      <td>[{'english_name': 'Hindi', 'iso_639_1': 'hi', ...</td>\n",
       "      <td>Released</td>\n",
       "      <td>NaN</td>\n",
       "      <td>Gang</td>\n",
       "      <td>0.0</td>\n",
       "      <td>4.00</td>\n",
       "      <td>1.0</td>\n",
       "      <td>NaN</td>\n",
       "    </tr>\n",
       "    <tr>\n",
       "      <th>4</th>\n",
       "      <td>tt0118694</td>\n",
       "      <td>0.0</td>\n",
       "      <td>/n4GJFGzsc7NinI1VeGDXIcQjtU2.jpg</td>\n",
       "      <td>NaN</td>\n",
       "      <td>150000.0</td>\n",
       "      <td>[{'id': 18, 'name': 'Drama'}, {'id': 10749, 'n...</td>\n",
       "      <td>NaN</td>\n",
       "      <td>843.0</td>\n",
       "      <td>cn</td>\n",
       "      <td>花樣年華</td>\n",
       "      <td>...</td>\n",
       "      <td>12854953.0</td>\n",
       "      <td>99.0</td>\n",
       "      <td>[{'english_name': 'Cantonese', 'iso_639_1': 'c...</td>\n",
       "      <td>Released</td>\n",
       "      <td>Feel the heat, keep the feeling burning, let t...</td>\n",
       "      <td>In the Mood for Love</td>\n",
       "      <td>0.0</td>\n",
       "      <td>8.11</td>\n",
       "      <td>2162.0</td>\n",
       "      <td>PG</td>\n",
       "    </tr>\n",
       "  </tbody>\n",
       "</table>\n",
       "<p>5 rows × 26 columns</p>\n",
       "</div>"
      ],
      "text/plain": [
       "     imdb_id  adult                     backdrop_path belongs_to_collection  \\\n",
       "0          0    NaN                               NaN                   NaN   \n",
       "1  tt0113026    0.0  /vMFs7nw6P0bIV1jDsQpxAieAVnH.jpg                   NaN   \n",
       "2  tt0113092    0.0                               NaN                   NaN   \n",
       "3  tt0116391    0.0                               NaN                   NaN   \n",
       "4  tt0118694    0.0  /n4GJFGzsc7NinI1VeGDXIcQjtU2.jpg                   NaN   \n",
       "\n",
       "       budget                                             genres homepage  \\\n",
       "0         NaN                                                NaN      NaN   \n",
       "1  10000000.0  [{'id': 35, 'name': 'Comedy'}, {'id': 10402, '...      NaN   \n",
       "2         0.0           [{'id': 878, 'name': 'Science Fiction'}]      NaN   \n",
       "3         0.0  [{'id': 18, 'name': 'Drama'}, {'id': 28, 'name...      NaN   \n",
       "4    150000.0  [{'id': 18, 'name': 'Drama'}, {'id': 10749, 'n...      NaN   \n",
       "\n",
       "         id original_language   original_title  ...     revenue  runtime  \\\n",
       "0       NaN               NaN              NaN  ...         NaN      NaN   \n",
       "1   62127.0                en  The Fantasticks  ...         0.0     86.0   \n",
       "2  110977.0                en    For the Cause  ...         0.0    100.0   \n",
       "3  442869.0                hi             Gang  ...         0.0    152.0   \n",
       "4     843.0                cn             花樣年華  ...  12854953.0     99.0   \n",
       "\n",
       "                                    spoken_languages    status  \\\n",
       "0                                                NaN       NaN   \n",
       "1  [{'english_name': 'English', 'iso_639_1': 'en'...  Released   \n",
       "2  [{'english_name': 'English', 'iso_639_1': 'en'...  Released   \n",
       "3  [{'english_name': 'Hindi', 'iso_639_1': 'hi', ...  Released   \n",
       "4  [{'english_name': 'Cantonese', 'iso_639_1': 'c...  Released   \n",
       "\n",
       "                                             tagline                 title  \\\n",
       "0                                                NaN                   NaN   \n",
       "1      Try to remember the first time magic happened       The Fantasticks   \n",
       "2       The ultimate showdown on a forbidden planet.         For the Cause   \n",
       "3                                                NaN                  Gang   \n",
       "4  Feel the heat, keep the feeling burning, let t...  In the Mood for Love   \n",
       "\n",
       "   video  vote_average vote_count certification  \n",
       "0    NaN           NaN        NaN           NaN  \n",
       "1    0.0          5.50       22.0           NaN  \n",
       "2    0.0          5.10        8.0           NaN  \n",
       "3    0.0          4.00        1.0           NaN  \n",
       "4    0.0          8.11     2162.0            PG  \n",
       "\n",
       "[5 rows x 26 columns]"
      ]
     },
     "execution_count": 3,
     "metadata": {},
     "output_type": "execute_result"
    }
   ],
   "source": [
    "tmdb_df = pd.concat([year_2000, year_2001, year_2010,year_2011, year_2012, \n",
    "                     year_2013,year_2014, year_2015, year_2016, year_2017, \n",
    "                     year_2018, year_2019, year_2020, year_2021])\n",
    "tmdb_df.head()"
   ]
  },
  {
   "cell_type": "code",
   "execution_count": 4,
   "id": "b113cebf",
   "metadata": {},
   "outputs": [
    {
     "name": "stdout",
     "output_type": "stream",
     "text": [
      "<class 'pandas.core.frame.DataFrame'>\n",
      "Int64Index: 46648 entries, 0 to 3532\n",
      "Data columns (total 26 columns):\n",
      " #   Column                 Non-Null Count  Dtype  \n",
      "---  ------                 --------------  -----  \n",
      " 0   imdb_id                46648 non-null  object \n",
      " 1   adult                  46634 non-null  float64\n",
      " 2   backdrop_path          30144 non-null  object \n",
      " 3   belongs_to_collection  2758 non-null   object \n",
      " 4   budget                 46634 non-null  float64\n",
      " 5   genres                 46634 non-null  object \n",
      " 6   homepage               12260 non-null  object \n",
      " 7   id                     46634 non-null  float64\n",
      " 8   original_language      46634 non-null  object \n",
      " 9   original_title         46634 non-null  object \n",
      " 10  overview               45609 non-null  object \n",
      " 11  popularity             46634 non-null  float64\n",
      " 12  poster_path            42958 non-null  object \n",
      " 13  production_companies   46634 non-null  object \n",
      " 14  production_countries   46634 non-null  object \n",
      " 15  release_date           45823 non-null  object \n",
      " 16  revenue                46634 non-null  float64\n",
      " 17  runtime                46116 non-null  float64\n",
      " 18  spoken_languages       46634 non-null  object \n",
      " 19  status                 46634 non-null  object \n",
      " 20  tagline                16624 non-null  object \n",
      " 21  title                  46634 non-null  object \n",
      " 22  video                  46634 non-null  float64\n",
      " 23  vote_average           46634 non-null  float64\n",
      " 24  vote_count             46634 non-null  float64\n",
      " 25  certification          10316 non-null  object \n",
      "dtypes: float64(9), object(17)\n",
      "memory usage: 9.6+ MB\n"
     ]
    }
   ],
   "source": [
    "tmdb_df.info()"
   ]
  },
  {
   "cell_type": "code",
   "execution_count": 5,
   "id": "429ac031",
   "metadata": {},
   "outputs": [],
   "source": [
    "tmdb_df = tmdb_df.dropna(subset=['certification','revenue'])"
   ]
  },
  {
   "cell_type": "markdown",
   "id": "4687e825",
   "metadata": {},
   "source": [
    "# Hypothesis Testing"
   ]
  },
  {
   "cell_type": "markdown",
   "id": "73350e67",
   "metadata": {},
   "source": [
    "# Q1: Does the MPAA rating of a movie (G/PG/PG-13/R) affect how much revenue the movie generates?"
   ]
  },
  {
   "cell_type": "markdown",
   "id": "e018ddfd",
   "metadata": {},
   "source": [
    "### Hypothesis Defined"
   ]
  },
  {
   "cell_type": "markdown",
   "id": "d83da59a",
   "metadata": {},
   "source": [
    "- $H_0$ (Null Hypothesis): There is no significant difference between revenue and the rating of a movie.\n",
    "- $H_A$ (Alternative Hypothesis):  There is a significant difference between revenue and the rating of a movie."
   ]
  },
  {
   "cell_type": "markdown",
   "id": "e2c14e46",
   "metadata": {},
   "source": [
    "###  Determine the correct test to perform.\n",
    "- Type of Data? numeric\n",
    "- How many groups/samples? > 2 groups\n",
    "- Therefore, which test is appropriate? ANOVA"
   ]
  },
  {
   "cell_type": "code",
   "execution_count": 6,
   "id": "0ed2b879",
   "metadata": {},
   "outputs": [],
   "source": [
    "tmdb_df = tmdb_df[tmdb_df.revenue !=0]"
   ]
  },
  {
   "cell_type": "code",
   "execution_count": 7,
   "id": "21791d57",
   "metadata": {},
   "outputs": [
    {
     "data": {
      "text/plain": [
       "R         1497\n",
       "PG-13     1056\n",
       "PG         394\n",
       "NR         198\n",
       "G           75\n",
       "NC-17       14\n",
       "R            1\n",
       "PG-13        1\n",
       "Name: certification, dtype: int64"
      ]
     },
     "execution_count": 7,
     "metadata": {},
     "output_type": "execute_result"
    }
   ],
   "source": [
    "tmdb_df['certification'].value_counts()"
   ]
  },
  {
   "cell_type": "code",
   "execution_count": 8,
   "id": "9568fd01",
   "metadata": {},
   "outputs": [
    {
     "data": {
      "text/plain": [
       "R        1498\n",
       "PG-13    1057\n",
       "PG        394\n",
       "NR        198\n",
       "G          75\n",
       "NC-17      14\n",
       "Name: certification, dtype: int64"
      ]
     },
     "execution_count": 8,
     "metadata": {},
     "output_type": "execute_result"
    }
   ],
   "source": [
    "tmdb_df['certification'] = tmdb_df['certification'].replace({'R ': 'R',\n",
    "                                                            'PG-13 ': 'PG-13'})\n",
    "tmdb_df['certification'].value_counts()"
   ]
  },
  {
   "cell_type": "code",
   "execution_count": 9,
   "id": "579ce35b",
   "metadata": {},
   "outputs": [
    {
     "data": {
      "text/plain": [
       "dict_keys(['PG', 'R', 'G', 'PG-13', 'NR', 'NC-17'])"
      ]
     },
     "execution_count": 9,
     "metadata": {},
     "output_type": "execute_result"
    }
   ],
   "source": [
    "# Create groups dictionary.\n",
    "groups = {}\n",
    "## Loop through all unique categories\n",
    "for rating in tmdb_df['certification'].unique():\n",
    "    ## Get series for group and rename\n",
    "    data = tmdb_df.loc[tmdb_df['certification']==rating,'revenue'].copy()\n",
    "    \n",
    "    # save into the dictionary\n",
    "    groups[rating] = data\n",
    "groups.keys()"
   ]
  },
  {
   "cell_type": "markdown",
   "id": "8bf14547",
   "metadata": {},
   "source": [
    "### Checking for Outliers"
   ]
  },
  {
   "cell_type": "code",
   "execution_count": 10,
   "id": "5a49efbd",
   "metadata": {},
   "outputs": [
    {
     "name": "stdout",
     "output_type": "stream",
     "text": [
      "There were 14 outliers in the PG group.\n",
      "There were 34 outliers in the R group.\n",
      "There were 2 outliers in the G group.\n",
      "There were 25 outliers in the PG-13 group.\n",
      "There were 3 outliers in the NR group.\n",
      "There were 0 outliers in the NC-17 group.\n"
     ]
    }
   ],
   "source": [
    "## Loop through groups dict\n",
    "for rating, data in groups.items():\n",
    "\n",
    "    ## determine if there are any outliers\n",
    "    outliers = np.abs(stats.zscore(data)) > 3\n",
    "    \n",
    "    ## print a statement about how many outliers for which group name\n",
    "    print(f\"There were {outliers.sum()} outliers in the {rating} group.\")\n",
    "\n",
    "    ## Remove the outiers from data and overwrite the rating data in the dict\n",
    "    data = data.loc[~outliers]\n",
    "    groups[rating] = data"
   ]
  },
  {
   "cell_type": "markdown",
   "id": "1797acb9",
   "metadata": {},
   "source": [
    "### Test for Normality"
   ]
  },
  {
   "cell_type": "code",
   "execution_count": 11,
   "id": "4312b392",
   "metadata": {},
   "outputs": [
    {
     "name": "stderr",
     "output_type": "stream",
     "text": [
      "/opt/homebrew/Caskroom/miniforge/base/envs/dojo-env/lib/python3.9/site-packages/scipy/stats/_stats_py.py:1772: UserWarning: kurtosistest only valid for n>=20 ... continuing anyway, n=14\n",
      "  warnings.warn(\"kurtosistest only valid for n>=20 ... continuing \"\n"
     ]
    },
    {
     "data": {
      "text/html": [
       "<div>\n",
       "<style scoped>\n",
       "    .dataframe tbody tr th:only-of-type {\n",
       "        vertical-align: middle;\n",
       "    }\n",
       "\n",
       "    .dataframe tbody tr th {\n",
       "        vertical-align: top;\n",
       "    }\n",
       "\n",
       "    .dataframe thead th {\n",
       "        text-align: right;\n",
       "    }\n",
       "</style>\n",
       "<table border=\"1\" class=\"dataframe\">\n",
       "  <thead>\n",
       "    <tr style=\"text-align: right;\">\n",
       "      <th></th>\n",
       "      <th>group</th>\n",
       "      <th>n</th>\n",
       "      <th>pval</th>\n",
       "      <th>sig?</th>\n",
       "    </tr>\n",
       "  </thead>\n",
       "  <tbody>\n",
       "    <tr>\n",
       "      <th>0</th>\n",
       "      <td>PG</td>\n",
       "      <td>380</td>\n",
       "      <td>3.545612e-31</td>\n",
       "      <td>True</td>\n",
       "    </tr>\n",
       "    <tr>\n",
       "      <th>1</th>\n",
       "      <td>R</td>\n",
       "      <td>1464</td>\n",
       "      <td>1.116438e-162</td>\n",
       "      <td>True</td>\n",
       "    </tr>\n",
       "    <tr>\n",
       "      <th>2</th>\n",
       "      <td>G</td>\n",
       "      <td>73</td>\n",
       "      <td>3.374177e-12</td>\n",
       "      <td>True</td>\n",
       "    </tr>\n",
       "    <tr>\n",
       "      <th>3</th>\n",
       "      <td>PG-13</td>\n",
       "      <td>1032</td>\n",
       "      <td>9.971207e-109</td>\n",
       "      <td>True</td>\n",
       "    </tr>\n",
       "    <tr>\n",
       "      <th>4</th>\n",
       "      <td>NR</td>\n",
       "      <td>195</td>\n",
       "      <td>1.294635e-35</td>\n",
       "      <td>True</td>\n",
       "    </tr>\n",
       "    <tr>\n",
       "      <th>5</th>\n",
       "      <td>NC-17</td>\n",
       "      <td>14</td>\n",
       "      <td>6.364168e-02</td>\n",
       "      <td>False</td>\n",
       "    </tr>\n",
       "  </tbody>\n",
       "</table>\n",
       "</div>"
      ],
      "text/plain": [
       "   group     n           pval   sig?\n",
       "0     PG   380   3.545612e-31   True\n",
       "1      R  1464  1.116438e-162   True\n",
       "2      G    73   3.374177e-12   True\n",
       "3  PG-13  1032  9.971207e-109   True\n",
       "4     NR   195   1.294635e-35   True\n",
       "5  NC-17    14   6.364168e-02  False"
      ]
     },
     "execution_count": 11,
     "metadata": {},
     "output_type": "execute_result"
    }
   ],
   "source": [
    "## Running normal test on each group and confirming there are >20 in each group\n",
    "\n",
    "## Save a list with an inner list of column names\n",
    "norm_results = [['group','n','pval','sig?']]\n",
    "\n",
    "\n",
    "## loop through group dict\n",
    "for rating, data in groups.items():\n",
    "    ## calculate normaltest results\n",
    "    stat, p = stats.normaltest(data)\n",
    "    \n",
    "    ## Append the right info into norm_resutls (as a list)\n",
    "    norm_results.append([rating,len(data), p, p<.05])\n",
    "    \n",
    "    \n",
    "## Make norm_results a dataframe (first row is columns, everything else data)\n",
    "normal_results = pd.DataFrame(norm_results[1:], columns = norm_results[0])\n",
    "normal_results"
   ]
  },
  {
   "cell_type": "markdown",
   "id": "0908d571",
   "metadata": {},
   "source": [
    "- We failed the assumpution for normality for G, PG, PG-13, R, and NR groups, but these groups are large enough that we can safely disregard the assumption of normality."
   ]
  },
  {
   "cell_type": "markdown",
   "id": "c00e7f67",
   "metadata": {},
   "source": [
    "### Check for Equal Variance"
   ]
  },
  {
   "cell_type": "code",
   "execution_count": 12,
   "id": "31004757",
   "metadata": {},
   "outputs": [
    {
     "name": "stdout",
     "output_type": "stream",
     "text": [
      "LeveneResult(statistic=74.36269611478022, pvalue=7.783857027671632e-74)\n"
     ]
    }
   ],
   "source": [
    "## Use Levene's test for equal variance\n",
    "result = stats.levene(*groups.values())\n",
    "print(result)"
   ]
  },
  {
   "cell_type": "code",
   "execution_count": 13,
   "id": "bba78288",
   "metadata": {},
   "outputs": [
    {
     "name": "stdout",
     "output_type": "stream",
     "text": [
      "The groups do NOT have equal variance.\n"
     ]
    }
   ],
   "source": [
    "## Use an if-else to help interpret the p-value\n",
    "if result.pvalue < 0.5:\n",
    "    print(f'The groups do NOT have equal variance.')\n",
    "else:\n",
    "    print(f'the groups DO have equal variance.')"
   ]
  },
  {
   "cell_type": "markdown",
   "id": "0b4a58a0",
   "metadata": {},
   "source": [
    "- We reject the null hypothesis of equal variance.\n",
    "- We wanted to run ANOVA test, but will need to use Kruskal-Wallis test insead."
   ]
  },
  {
   "cell_type": "markdown",
   "id": "88a82986",
   "metadata": {},
   "source": [
    "### Perform and Evaluate Kruskal-Wallis Test"
   ]
  },
  {
   "cell_type": "code",
   "execution_count": 14,
   "id": "d0caf39d",
   "metadata": {},
   "outputs": [
    {
     "name": "stdout",
     "output_type": "stream",
     "text": [
      "KruskalResult(statistic=522.9041145477723, pvalue=9.07309331323976e-111)\n"
     ]
    },
    {
     "data": {
      "text/plain": [
       "True"
      ]
     },
     "execution_count": 14,
     "metadata": {},
     "output_type": "execute_result"
    }
   ],
   "source": [
    "## Running Krukal Test for Original Hypothesis\n",
    "result = stats.kruskal(*groups.values())\n",
    "print(result)\n",
    "result.pvalue<.05"
   ]
  },
  {
   "cell_type": "markdown",
   "id": "509ac5c0",
   "metadata": {},
   "source": [
    "- We reject the null hypothesis and support that there is a significant difference between revenue and the rating of a movie."
   ]
  },
  {
   "cell_type": "code",
   "execution_count": 15,
   "id": "a5bfb58c",
   "metadata": {},
   "outputs": [
    {
     "data": {
      "text/plain": [
       "<AxesSubplot: xlabel='certification', ylabel='revenue'>"
      ]
     },
     "execution_count": 15,
     "metadata": {},
     "output_type": "execute_result"
    },
    {
     "data": {
      "image/png": "[encoded data removed]",
      "text/plain": [
       "<Figure size 640x480 with 1 Axes>"
      ]
     },
     "metadata": {},
     "output_type": "display_data"
    }
   ],
   "source": [
    "sns.barplot(data=tmdb_df, x='certification', y='revenue')"
   ]
  },
  {
   "cell_type": "markdown",
   "id": "10f70535",
   "metadata": {},
   "source": [
    "- PG group has the highest mean revenue and NC-17 group has the lowest mean revenue."
   ]
  },
  {
   "cell_type": "markdown",
   "id": "14ea17fa",
   "metadata": {},
   "source": [
    "# Question 2: Do movies that are 2.5 hours or longer earn more revenue than movies that are less than 2.5 hours?"
   ]
  },
  {
   "cell_type": "markdown",
   "id": "e1640234",
   "metadata": {},
   "source": [
    "### Hypothesis Defined"
   ]
  },
  {
   "cell_type": "markdown",
   "id": "435d6a08",
   "metadata": {},
   "source": [
    "- $H_0$ (Null Hypothesis): There is no significant difference between revenue and the length of a movie.\n",
    "- $H_A$ (Alternative Hypothesis):  There is a significant difference between revenue and the length of a movie."
   ]
  },
  {
   "cell_type": "markdown",
   "id": "26c1d0ed",
   "metadata": {},
   "source": [
    "###  Determine the correct test to perform.\n",
    "- Type of Data? numeric\n",
    "- How many groups/samples? 2 groups\n",
    "- Therefore, which test is appropriate? 2 sample t-test"
   ]
  },
  {
   "cell_type": "code",
   "execution_count": 16,
   "id": "040a0c65",
   "metadata": {},
   "outputs": [
    {
     "data": {
      "text/plain": [
       "100.0    101\n",
       "90.0     100\n",
       "97.0      98\n",
       "105.0     95\n",
       "94.0      93\n",
       "        ... \n",
       "166.0      1\n",
       "183.0      1\n",
       "224.0      1\n",
       "179.0      1\n",
       "156.0      1\n",
       "Name: runtime, Length: 123, dtype: int64"
      ]
     },
     "execution_count": 16,
     "metadata": {},
     "output_type": "execute_result"
    }
   ],
   "source": [
    "tmdb_df['runtime'].value_counts()"
   ]
  },
  {
   "cell_type": "code",
   "execution_count": 17,
   "id": "7aa06687",
   "metadata": {},
   "outputs": [],
   "source": [
    "tmdb_df['longer_movie'] = tmdb_df['runtime'] >= 150"
   ]
  },
  {
   "cell_type": "code",
   "execution_count": 18,
   "id": "53ceae89",
   "metadata": {},
   "outputs": [
    {
     "data": {
      "text/plain": [
       "<bound method IndexOpsMixin.value_counts of 4       False\n",
       "11      False\n",
       "13      False\n",
       "16      False\n",
       "17      False\n",
       "        ...  \n",
       "3456    False\n",
       "3461    False\n",
       "3489    False\n",
       "3510    False\n",
       "3532    False\n",
       "Name: longer_movie, Length: 3236, dtype: bool>"
      ]
     },
     "execution_count": 18,
     "metadata": {},
     "output_type": "execute_result"
    }
   ],
   "source": [
    "tmdb_df['longer_movie'].value_counts"
   ]
  },
  {
   "cell_type": "code",
   "execution_count": 19,
   "id": "b7c1dee9",
   "metadata": {},
   "outputs": [],
   "source": [
    "## save list of columns needed for each group\n",
    "needed_cols = ['longer_movie', 'revenue']"
   ]
  },
  {
   "cell_type": "code",
   "execution_count": 20,
   "id": "68670647",
   "metadata": {},
   "outputs": [
    {
     "data": {
      "text/html": [
       "<div>\n",
       "<style scoped>\n",
       "    .dataframe tbody tr th:only-of-type {\n",
       "        vertical-align: middle;\n",
       "    }\n",
       "\n",
       "    .dataframe tbody tr th {\n",
       "        vertical-align: top;\n",
       "    }\n",
       "\n",
       "    .dataframe thead th {\n",
       "        text-align: right;\n",
       "    }\n",
       "</style>\n",
       "<table border=\"1\" class=\"dataframe\">\n",
       "  <thead>\n",
       "    <tr style=\"text-align: right;\">\n",
       "      <th></th>\n",
       "      <th>longer_movie</th>\n",
       "      <th>revenue</th>\n",
       "    </tr>\n",
       "  </thead>\n",
       "  <tbody>\n",
       "    <tr>\n",
       "      <th>156</th>\n",
       "      <td>True</td>\n",
       "      <td>465361176.0</td>\n",
       "    </tr>\n",
       "    <tr>\n",
       "      <th>239</th>\n",
       "      <td>True</td>\n",
       "      <td>215294342.0</td>\n",
       "    </tr>\n",
       "    <tr>\n",
       "      <th>587</th>\n",
       "      <td>True</td>\n",
       "      <td>4900000.0</td>\n",
       "    </tr>\n",
       "    <tr>\n",
       "      <th>787</th>\n",
       "      <td>True</td>\n",
       "      <td>20908467.0</td>\n",
       "    </tr>\n",
       "    <tr>\n",
       "      <th>9</th>\n",
       "      <td>True</td>\n",
       "      <td>871368364.0</td>\n",
       "    </tr>\n",
       "    <tr>\n",
       "      <th>...</th>\n",
       "      <td>...</td>\n",
       "      <td>...</td>\n",
       "    </tr>\n",
       "    <tr>\n",
       "      <th>2743</th>\n",
       "      <td>True</td>\n",
       "      <td>774153007.0</td>\n",
       "    </tr>\n",
       "    <tr>\n",
       "      <th>2784</th>\n",
       "      <td>True</td>\n",
       "      <td>74530532.0</td>\n",
       "    </tr>\n",
       "    <tr>\n",
       "      <th>2825</th>\n",
       "      <td>True</td>\n",
       "      <td>27000000.0</td>\n",
       "    </tr>\n",
       "    <tr>\n",
       "      <th>3110</th>\n",
       "      <td>True</td>\n",
       "      <td>39629195.0</td>\n",
       "    </tr>\n",
       "    <tr>\n",
       "      <th>3320</th>\n",
       "      <td>True</td>\n",
       "      <td>402027582.0</td>\n",
       "    </tr>\n",
       "  </tbody>\n",
       "</table>\n",
       "<p>84 rows × 2 columns</p>\n",
       "</div>"
      ],
      "text/plain": [
       "      longer_movie      revenue\n",
       "156           True  465361176.0\n",
       "239           True  215294342.0\n",
       "587           True    4900000.0\n",
       "787           True   20908467.0\n",
       "9             True  871368364.0\n",
       "...            ...          ...\n",
       "2743          True  774153007.0\n",
       "2784          True   74530532.0\n",
       "2825          True   27000000.0\n",
       "3110          True   39629195.0\n",
       "3320          True  402027582.0\n",
       "\n",
       "[84 rows x 2 columns]"
      ]
     },
     "execution_count": 20,
     "metadata": {},
     "output_type": "execute_result"
    }
   ],
   "source": [
    "## save longer_movie in separate variable\n",
    "longer_movie_df = tmdb_df.loc[tmdb_df['longer_movie']==True, needed_cols]\n",
    "longer_movie_df"
   ]
  },
  {
   "cell_type": "code",
   "execution_count": 21,
   "id": "c0876888",
   "metadata": {},
   "outputs": [
    {
     "data": {
      "text/html": [
       "<div>\n",
       "<style scoped>\n",
       "    .dataframe tbody tr th:only-of-type {\n",
       "        vertical-align: middle;\n",
       "    }\n",
       "\n",
       "    .dataframe tbody tr th {\n",
       "        vertical-align: top;\n",
       "    }\n",
       "\n",
       "    .dataframe thead th {\n",
       "        text-align: right;\n",
       "    }\n",
       "</style>\n",
       "<table border=\"1\" class=\"dataframe\">\n",
       "  <thead>\n",
       "    <tr style=\"text-align: right;\">\n",
       "      <th></th>\n",
       "      <th>longer_movie</th>\n",
       "      <th>revenue</th>\n",
       "    </tr>\n",
       "  </thead>\n",
       "  <tbody>\n",
       "    <tr>\n",
       "      <th>4</th>\n",
       "      <td>False</td>\n",
       "      <td>12854953.0</td>\n",
       "    </tr>\n",
       "    <tr>\n",
       "      <th>11</th>\n",
       "      <td>False</td>\n",
       "      <td>14904.0</td>\n",
       "    </tr>\n",
       "    <tr>\n",
       "      <th>13</th>\n",
       "      <td>False</td>\n",
       "      <td>224834564.0</td>\n",
       "    </tr>\n",
       "    <tr>\n",
       "      <th>16</th>\n",
       "      <td>False</td>\n",
       "      <td>105983.0</td>\n",
       "    </tr>\n",
       "    <tr>\n",
       "      <th>17</th>\n",
       "      <td>False</td>\n",
       "      <td>546388105.0</td>\n",
       "    </tr>\n",
       "    <tr>\n",
       "      <th>...</th>\n",
       "      <td>...</td>\n",
       "      <td>...</td>\n",
       "    </tr>\n",
       "    <tr>\n",
       "      <th>3456</th>\n",
       "      <td>False</td>\n",
       "      <td>22957625.0</td>\n",
       "    </tr>\n",
       "    <tr>\n",
       "      <th>3461</th>\n",
       "      <td>False</td>\n",
       "      <td>4284903.0</td>\n",
       "    </tr>\n",
       "    <tr>\n",
       "      <th>3489</th>\n",
       "      <td>False</td>\n",
       "      <td>8756.0</td>\n",
       "    </tr>\n",
       "    <tr>\n",
       "      <th>3510</th>\n",
       "      <td>False</td>\n",
       "      <td>44888959.0</td>\n",
       "    </tr>\n",
       "    <tr>\n",
       "      <th>3532</th>\n",
       "      <td>False</td>\n",
       "      <td>4588389.0</td>\n",
       "    </tr>\n",
       "  </tbody>\n",
       "</table>\n",
       "<p>3152 rows × 2 columns</p>\n",
       "</div>"
      ],
      "text/plain": [
       "      longer_movie      revenue\n",
       "4            False   12854953.0\n",
       "11           False      14904.0\n",
       "13           False  224834564.0\n",
       "16           False     105983.0\n",
       "17           False  546388105.0\n",
       "...            ...          ...\n",
       "3456         False   22957625.0\n",
       "3461         False    4284903.0\n",
       "3489         False       8756.0\n",
       "3510         False   44888959.0\n",
       "3532         False    4588389.0\n",
       "\n",
       "[3152 rows x 2 columns]"
      ]
     },
     "execution_count": 21,
     "metadata": {},
     "output_type": "execute_result"
    }
   ],
   "source": [
    "## save shorter_movie in separate variable\n",
    "shorter_movie_df = tmdb_df.loc[tmdb_df['longer_movie']==False, needed_cols]\n",
    "shorter_movie_df"
   ]
  },
  {
   "cell_type": "code",
   "execution_count": 22,
   "id": "0a06c120",
   "metadata": {},
   "outputs": [
    {
     "data": {
      "text/html": [
       "<div>\n",
       "<style scoped>\n",
       "    .dataframe tbody tr th:only-of-type {\n",
       "        vertical-align: middle;\n",
       "    }\n",
       "\n",
       "    .dataframe tbody tr th {\n",
       "        vertical-align: top;\n",
       "    }\n",
       "\n",
       "    .dataframe thead th {\n",
       "        text-align: right;\n",
       "    }\n",
       "</style>\n",
       "<table border=\"1\" class=\"dataframe\">\n",
       "  <thead>\n",
       "    <tr style=\"text-align: right;\">\n",
       "      <th></th>\n",
       "      <th>longer_movie</th>\n",
       "      <th>revenue</th>\n",
       "    </tr>\n",
       "  </thead>\n",
       "  <tbody>\n",
       "    <tr>\n",
       "      <th>4</th>\n",
       "      <td>False</td>\n",
       "      <td>12854953.0</td>\n",
       "    </tr>\n",
       "    <tr>\n",
       "      <th>11</th>\n",
       "      <td>False</td>\n",
       "      <td>14904.0</td>\n",
       "    </tr>\n",
       "    <tr>\n",
       "      <th>13</th>\n",
       "      <td>False</td>\n",
       "      <td>224834564.0</td>\n",
       "    </tr>\n",
       "    <tr>\n",
       "      <th>16</th>\n",
       "      <td>False</td>\n",
       "      <td>105983.0</td>\n",
       "    </tr>\n",
       "    <tr>\n",
       "      <th>17</th>\n",
       "      <td>False</td>\n",
       "      <td>546388105.0</td>\n",
       "    </tr>\n",
       "    <tr>\n",
       "      <th>...</th>\n",
       "      <td>...</td>\n",
       "      <td>...</td>\n",
       "    </tr>\n",
       "    <tr>\n",
       "      <th>2743</th>\n",
       "      <td>True</td>\n",
       "      <td>774153007.0</td>\n",
       "    </tr>\n",
       "    <tr>\n",
       "      <th>2784</th>\n",
       "      <td>True</td>\n",
       "      <td>74530532.0</td>\n",
       "    </tr>\n",
       "    <tr>\n",
       "      <th>2825</th>\n",
       "      <td>True</td>\n",
       "      <td>27000000.0</td>\n",
       "    </tr>\n",
       "    <tr>\n",
       "      <th>3110</th>\n",
       "      <td>True</td>\n",
       "      <td>39629195.0</td>\n",
       "    </tr>\n",
       "    <tr>\n",
       "      <th>3320</th>\n",
       "      <td>True</td>\n",
       "      <td>402027582.0</td>\n",
       "    </tr>\n",
       "  </tbody>\n",
       "</table>\n",
       "<p>3236 rows × 2 columns</p>\n",
       "</div>"
      ],
      "text/plain": [
       "      longer_movie      revenue\n",
       "4            False   12854953.0\n",
       "11           False      14904.0\n",
       "13           False  224834564.0\n",
       "16           False     105983.0\n",
       "17           False  546388105.0\n",
       "...            ...          ...\n",
       "2743          True  774153007.0\n",
       "2784          True   74530532.0\n",
       "2825          True   27000000.0\n",
       "3110          True   39629195.0\n",
       "3320          True  402027582.0\n",
       "\n",
       "[3236 rows x 2 columns]"
      ]
     },
     "execution_count": 22,
     "metadata": {},
     "output_type": "execute_result"
    }
   ],
   "source": [
    "## Make a df just for visualization by concat the groups \n",
    "plot_df =  pd.concat([shorter_movie_df, longer_movie_df])\n",
    "plot_df"
   ]
  },
  {
   "cell_type": "code",
   "execution_count": 23,
   "id": "b65c4211",
   "metadata": {},
   "outputs": [
    {
     "data": {
      "text/plain": [
       "<AxesSubplot: xlabel='longer_movie', ylabel='revenue'>"
      ]
     },
     "execution_count": 23,
     "metadata": {},
     "output_type": "execute_result"
    },
    {
     "data": {
      "image/png": "[encoded data removed]",
      "text/plain": [
       "<Figure size 640x480 with 1 Axes>"
      ]
     },
     "metadata": {},
     "output_type": "display_data"
    }
   ],
   "source": [
    "## visualize the groups means\n",
    "sns.barplot(data=plot_df, x='longer_movie', y='revenue')"
   ]
  },
  {
   "cell_type": "code",
   "execution_count": 24,
   "id": "5061922e",
   "metadata": {},
   "outputs": [
    {
     "data": {
      "text/plain": [
       "156     465361176.0\n",
       "239     215294342.0\n",
       "587       4900000.0\n",
       "787      20908467.0\n",
       "9       871368364.0\n",
       "           ...     \n",
       "2743    774153007.0\n",
       "2784     74530532.0\n",
       "2825     27000000.0\n",
       "3110     39629195.0\n",
       "3320    402027582.0\n",
       "Name: revenue, Length: 84, dtype: float64"
      ]
     },
     "execution_count": 24,
     "metadata": {},
     "output_type": "execute_result"
    }
   ],
   "source": [
    "## Saving JUST the numeric col as final group variables\n",
    "longer_movie_group = longer_movie_df['revenue']\n",
    "shorter_movie_group = shorter_movie_df['revenue']\n",
    "longer_movie_group"
   ]
  },
  {
   "cell_type": "markdown",
   "id": "18fa8a68",
   "metadata": {},
   "source": [
    "### Check for Outliers"
   ]
  },
  {
   "cell_type": "code",
   "execution_count": 25,
   "id": "e1f73c45",
   "metadata": {},
   "outputs": [
    {
     "data": {
      "text/plain": [
       "1"
      ]
     },
     "execution_count": 25,
     "metadata": {},
     "output_type": "execute_result"
    }
   ],
   "source": [
    "## Check longer_movie_group for outliers\n",
    "longer_movie_outliers = np.abs(stats.zscore(longer_movie_group)) > 3\n",
    "\n",
    "## how many outliers?\n",
    "longer_movie_outliers.sum()"
   ]
  },
  {
   "cell_type": "code",
   "execution_count": null,
   "id": "cc854835",
   "metadata": {},
   "outputs": [],
   "source": [
    "## remove outliers from longer_movie_group\n",
    "longer_movie_group = longer_movie_group.loc[~longer_movie_outliers]\n",
    "longer_movie_group"
   ]
  },
  {
   "cell_type": "code",
   "execution_count": 26,
   "id": "0597db91",
   "metadata": {},
   "outputs": [
    {
     "data": {
      "text/plain": [
       "84"
      ]
     },
     "execution_count": 26,
     "metadata": {},
     "output_type": "execute_result"
    }
   ],
   "source": [
    "## Check shorter_movie_group for outliers\n",
    "shorter_movie_outliers = np.abs(stats.zscore(shorter_movie_group)) > 3\n",
    "\n",
    "## how many outliers?\n",
    "shorter_movie_outliers.sum()"
   ]
  },
  {
   "cell_type": "code",
   "execution_count": 27,
   "id": "a313e80c",
   "metadata": {},
   "outputs": [
    {
     "data": {
      "text/plain": [
       "4        12854953.0\n",
       "11          14904.0\n",
       "13      224834564.0\n",
       "16         105983.0\n",
       "17      546388105.0\n",
       "           ...     \n",
       "3456     22957625.0\n",
       "3461      4284903.0\n",
       "3489         8756.0\n",
       "3510     44888959.0\n",
       "3532      4588389.0\n",
       "Name: revenue, Length: 3068, dtype: float64"
      ]
     },
     "execution_count": 27,
     "metadata": {},
     "output_type": "execute_result"
    }
   ],
   "source": [
    "## remove outliers from shorter_movie_group\n",
    "shorter_movie_group = shorter_movie_group.loc[~shorter_movie_outliers]\n",
    "shorter_movie_group"
   ]
  },
  {
   "cell_type": "markdown",
   "id": "8a60d506",
   "metadata": {},
   "source": [
    "### Test for Normality"
   ]
  },
  {
   "cell_type": "code",
   "execution_count": 28,
   "id": "5718dc2f",
   "metadata": {},
   "outputs": [
    {
     "name": "stdout",
     "output_type": "stream",
     "text": [
      "1.007169633856034e-17\n"
     ]
    },
    {
     "data": {
      "text/plain": [
       "True"
      ]
     },
     "execution_count": 28,
     "metadata": {},
     "output_type": "execute_result"
    }
   ],
   "source": [
    "result = stats.normaltest(longer_movie_group)\n",
    "print(result.pvalue)\n",
    "result.pvalue < .05"
   ]
  },
  {
   "cell_type": "code",
   "execution_count": 29,
   "id": "e1d31a49",
   "metadata": {},
   "outputs": [
    {
     "data": {
      "text/plain": [
       "84"
      ]
     },
     "execution_count": 29,
     "metadata": {},
     "output_type": "execute_result"
    }
   ],
   "source": [
    "len(longer_movie_group)"
   ]
  },
  {
   "cell_type": "code",
   "execution_count": 30,
   "id": "e6c8b8b1",
   "metadata": {},
   "outputs": [
    {
     "data": {
      "text/plain": [
       "True"
      ]
     },
     "execution_count": 30,
     "metadata": {},
     "output_type": "execute_result"
    }
   ],
   "source": [
    "result = stats.normaltest(shorter_movie_group)\n",
    "result.pvalue < .05"
   ]
  },
  {
   "cell_type": "code",
   "execution_count": 31,
   "id": "5e2a6627",
   "metadata": {},
   "outputs": [
    {
     "data": {
      "text/plain": [
       "3068"
      ]
     },
     "execution_count": 31,
     "metadata": {},
     "output_type": "execute_result"
    }
   ],
   "source": [
    "len(shorter_movie_group)"
   ]
  },
  {
   "cell_type": "markdown",
   "id": "782355b7",
   "metadata": {},
   "source": [
    "- We fail to reject the null hypothesis that there is no statistical difference between the longer_movie_group and a normal distribution. \n",
    "- We reject the null hypothesis and conclude that there is a statistical difference between the shorter_movie_group and a normal distribution."
   ]
  },
  {
   "cell_type": "markdown",
   "id": "8628e90a",
   "metadata": {},
   "source": [
    "### Check for Equal Variance"
   ]
  },
  {
   "cell_type": "code",
   "execution_count": 32,
   "id": "cd38e78b",
   "metadata": {},
   "outputs": [
    {
     "name": "stdout",
     "output_type": "stream",
     "text": [
      "LeveneResult(statistic=213.2276755363153, pvalue=8.865320355544318e-47)\n"
     ]
    }
   ],
   "source": [
    "## Use Levene's test for equal variance\n",
    "result = stats.levene(longer_movie_group, shorter_movie_group)\n",
    "print(result)"
   ]
  },
  {
   "cell_type": "code",
   "execution_count": 33,
   "id": "20070802",
   "metadata": {},
   "outputs": [
    {
     "name": "stdout",
     "output_type": "stream",
     "text": [
      "The groups do NOT have equal variance.\n"
     ]
    }
   ],
   "source": [
    "## Use an if-else to help interpret the p-value\n",
    "if result.pvalue < 0.5:\n",
    "    print(f'The groups do NOT have equal variance.')\n",
    "else:\n",
    "    print(f'the groups DO have equal variance.')"
   ]
  },
  {
   "cell_type": "markdown",
   "id": "e70d4eaf",
   "metadata": {},
   "source": [
    "### Perform and Evaluate t-test"
   ]
  },
  {
   "cell_type": "code",
   "execution_count": 34,
   "id": "66b988d6",
   "metadata": {},
   "outputs": [
    {
     "name": "stdout",
     "output_type": "stream",
     "text": [
      "Ttest_indResult(statistic=4.516633931056297, pvalue=2.0525359810698815e-05)\n"
     ]
    },
    {
     "data": {
      "text/plain": [
       "True"
      ]
     },
     "execution_count": 34,
     "metadata": {},
     "output_type": "execute_result"
    }
   ],
   "source": [
    "## run final hypothess test\n",
    "result = stats.ttest_ind(longer_movie_group, shorter_movie_group, equal_var=False)\n",
    "print(result)\n",
    "result.pvalue < 0.05"
   ]
  },
  {
   "cell_type": "markdown",
   "id": "0f56b143",
   "metadata": {},
   "source": [
    "- We reject the null hypothesis and support that there is a significant difference between revenue and the length of a movie."
   ]
  },
  {
   "cell_type": "code",
   "execution_count": 35,
   "id": "17d126e8",
   "metadata": {},
   "outputs": [
    {
     "name": "stdout",
     "output_type": "stream",
     "text": [
      "The average revenue for longer_movie_group was  280299008.55\n",
      "There average revenue for shorter_movie_group was  65716771.92\n"
     ]
    }
   ],
   "source": [
    "print(f'The average revenue for longer_movie_group was {longer_movie_group.mean(): .2f}')\n",
    "print(f'There average revenue for shorter_movie_group was {shorter_movie_group.mean(): .2f}')"
   ]
  },
  {
   "cell_type": "code",
   "execution_count": 36,
   "id": "081c261b",
   "metadata": {},
   "outputs": [
    {
     "data": {
      "text/html": [
       "<div>\n",
       "<style scoped>\n",
       "    .dataframe tbody tr th:only-of-type {\n",
       "        vertical-align: middle;\n",
       "    }\n",
       "\n",
       "    .dataframe tbody tr th {\n",
       "        vertical-align: top;\n",
       "    }\n",
       "\n",
       "    .dataframe thead th {\n",
       "        text-align: right;\n",
       "    }\n",
       "</style>\n",
       "<table border=\"1\" class=\"dataframe\">\n",
       "  <thead>\n",
       "    <tr style=\"text-align: right;\">\n",
       "      <th></th>\n",
       "      <th>longer_movie</th>\n",
       "      <th>revenue</th>\n",
       "    </tr>\n",
       "  </thead>\n",
       "  <tbody>\n",
       "    <tr>\n",
       "      <th>156</th>\n",
       "      <td>True</td>\n",
       "      <td>465361176.0</td>\n",
       "    </tr>\n",
       "    <tr>\n",
       "      <th>239</th>\n",
       "      <td>True</td>\n",
       "      <td>215294342.0</td>\n",
       "    </tr>\n",
       "    <tr>\n",
       "      <th>587</th>\n",
       "      <td>True</td>\n",
       "      <td>4900000.0</td>\n",
       "    </tr>\n",
       "    <tr>\n",
       "      <th>787</th>\n",
       "      <td>True</td>\n",
       "      <td>20908467.0</td>\n",
       "    </tr>\n",
       "    <tr>\n",
       "      <th>9</th>\n",
       "      <td>True</td>\n",
       "      <td>871368364.0</td>\n",
       "    </tr>\n",
       "    <tr>\n",
       "      <th>...</th>\n",
       "      <td>...</td>\n",
       "      <td>...</td>\n",
       "    </tr>\n",
       "    <tr>\n",
       "      <th>3456</th>\n",
       "      <td>False</td>\n",
       "      <td>22957625.0</td>\n",
       "    </tr>\n",
       "    <tr>\n",
       "      <th>3461</th>\n",
       "      <td>False</td>\n",
       "      <td>4284903.0</td>\n",
       "    </tr>\n",
       "    <tr>\n",
       "      <th>3489</th>\n",
       "      <td>False</td>\n",
       "      <td>8756.0</td>\n",
       "    </tr>\n",
       "    <tr>\n",
       "      <th>3510</th>\n",
       "      <td>False</td>\n",
       "      <td>44888959.0</td>\n",
       "    </tr>\n",
       "    <tr>\n",
       "      <th>3532</th>\n",
       "      <td>False</td>\n",
       "      <td>4588389.0</td>\n",
       "    </tr>\n",
       "  </tbody>\n",
       "</table>\n",
       "<p>3151 rows × 2 columns</p>\n",
       "</div>"
      ],
      "text/plain": [
       "      longer_movie      revenue\n",
       "156           True  465361176.0\n",
       "239           True  215294342.0\n",
       "587           True    4900000.0\n",
       "787           True   20908467.0\n",
       "9             True  871368364.0\n",
       "...            ...          ...\n",
       "3456         False   22957625.0\n",
       "3461         False    4284903.0\n",
       "3489         False       8756.0\n",
       "3510         False   44888959.0\n",
       "3532         False    4588389.0\n",
       "\n",
       "[3151 rows x 2 columns]"
      ]
     },
     "execution_count": 36,
     "metadata": {},
     "output_type": "execute_result"
    }
   ],
   "source": [
    "# create dataframe without outliers\n",
    "plot_df = pd.concat([longer_movie_df.loc[~longer_movie_outliers],\n",
    "                    shorter_movie_df.loc[~shorter_movie_outliers]], axis=0)\n",
    "plot_df"
   ]
  },
  {
   "cell_type": "code",
   "execution_count": 37,
   "id": "5f0804e7",
   "metadata": {},
   "outputs": [
    {
     "data": {
      "text/plain": [
       "<AxesSubplot: xlabel='longer_movie', ylabel='revenue'>"
      ]
     },
     "execution_count": 37,
     "metadata": {},
     "output_type": "execute_result"
    },
    {
     "data": {
      "image/png": "[encoded data removed]",
      "text/plain": [
       "<Figure size 640x480 with 1 Axes>"
      ]
     },
     "metadata": {},
     "output_type": "display_data"
    }
   ],
   "source": [
    "# vizualize means without outliers\n",
    "sns.barplot(data=plot_df, x='longer_movie', y='revenue')"
   ]
  },
  {
   "cell_type": "markdown",
   "id": "69478db3",
   "metadata": {},
   "source": [
    "- There is a higher mean revenue for movies at least 2.5 hours than movies that are less than 2.5 hours."
   ]
  },
  {
   "cell_type": "markdown",
   "id": "33fde6d6",
   "metadata": {},
   "source": [
    "# Q3: Do movies released in 2020 earn less revenue than movies released in 2018?"
   ]
  },
  {
   "cell_type": "code",
   "execution_count": 38,
   "id": "893021dc",
   "metadata": {},
   "outputs": [],
   "source": [
    "released_df = pd.concat([year_2018, year_2020])"
   ]
  },
  {
   "cell_type": "code",
   "execution_count": 39,
   "id": "96908486",
   "metadata": {},
   "outputs": [
    {
     "name": "stdout",
     "output_type": "stream",
     "text": [
      "<class 'pandas.core.frame.DataFrame'>\n",
      "Int64Index: 8238 entries, 0 to 3717\n",
      "Data columns (total 26 columns):\n",
      " #   Column                 Non-Null Count  Dtype  \n",
      "---  ------                 --------------  -----  \n",
      " 0   imdb_id                8238 non-null   object \n",
      " 1   adult                  8236 non-null   float64\n",
      " 2   backdrop_path          6154 non-null   object \n",
      " 3   belongs_to_collection  388 non-null    object \n",
      " 4   budget                 8236 non-null   float64\n",
      " 5   genres                 8236 non-null   object \n",
      " 6   homepage               2279 non-null   object \n",
      " 7   id                     8236 non-null   float64\n",
      " 8   original_language      8236 non-null   object \n",
      " 9   original_title         8236 non-null   object \n",
      " 10  overview               8080 non-null   object \n",
      " 11  popularity             8236 non-null   float64\n",
      " 12  poster_path            8019 non-null   object \n",
      " 13  production_companies   8236 non-null   object \n",
      " 14  production_countries   8236 non-null   object \n",
      " 15  release_date           8057 non-null   object \n",
      " 16  revenue                8236 non-null   float64\n",
      " 17  runtime                8195 non-null   float64\n",
      " 18  spoken_languages       8236 non-null   object \n",
      " 19  status                 8236 non-null   object \n",
      " 20  tagline                2812 non-null   object \n",
      " 21  title                  8236 non-null   object \n",
      " 22  video                  8236 non-null   float64\n",
      " 23  vote_average           8236 non-null   float64\n",
      " 24  vote_count             8236 non-null   float64\n",
      " 25  certification          1515 non-null   object \n",
      "dtypes: float64(9), object(17)\n",
      "memory usage: 1.7+ MB\n"
     ]
    }
   ],
   "source": [
    "released_df.info()"
   ]
  },
  {
   "cell_type": "code",
   "execution_count": 41,
   "id": "c2c1a366",
   "metadata": {},
   "outputs": [
    {
     "data": {
      "text/plain": [
       "2018-01-01    62\n",
       "2018-10-26    51\n",
       "2020-10-22    47\n",
       "2018-10-19    41\n",
       "2018-06-01    40\n",
       "              ..\n",
       "2017-09-10     1\n",
       "2017-02-15     1\n",
       "2022-01-25     1\n",
       "2018-07-22     1\n",
       "2021-07-22     1\n",
       "Name: release_date, Length: 1227, dtype: int64"
      ]
     },
     "execution_count": 41,
     "metadata": {},
     "output_type": "execute_result"
    }
   ],
   "source": [
    "released_df['release_date'].value_counts()"
   ]
  },
  {
   "cell_type": "code",
   "execution_count": 47,
   "id": "c20f5854",
   "metadata": {},
   "outputs": [],
   "source": [
    "released_df['release_date'] = pd.to_datetime(released_df['release_date'])"
   ]
  },
  {
   "cell_type": "code",
   "execution_count": 49,
   "id": "c2ea4bf5",
   "metadata": {},
   "outputs": [
    {
     "name": "stdout",
     "output_type": "stream",
     "text": [
      "<class 'pandas.core.frame.DataFrame'>\n",
      "Int64Index: 8238 entries, 0 to 3717\n",
      "Data columns (total 27 columns):\n",
      " #   Column                 Non-Null Count  Dtype         \n",
      "---  ------                 --------------  -----         \n",
      " 0   imdb_id                8238 non-null   object        \n",
      " 1   adult                  8236 non-null   float64       \n",
      " 2   backdrop_path          6154 non-null   object        \n",
      " 3   belongs_to_collection  388 non-null    object        \n",
      " 4   budget                 8236 non-null   float64       \n",
      " 5   genres                 8236 non-null   object        \n",
      " 6   homepage               2279 non-null   object        \n",
      " 7   id                     8236 non-null   float64       \n",
      " 8   original_language      8236 non-null   object        \n",
      " 9   original_title         8236 non-null   object        \n",
      " 10  overview               8080 non-null   object        \n",
      " 11  popularity             8236 non-null   float64       \n",
      " 12  poster_path            8019 non-null   object        \n",
      " 13  production_companies   8236 non-null   object        \n",
      " 14  production_countries   8236 non-null   object        \n",
      " 15  release_date           8057 non-null   datetime64[ns]\n",
      " 16  revenue                8236 non-null   float64       \n",
      " 17  runtime                8195 non-null   float64       \n",
      " 18  spoken_languages       8236 non-null   object        \n",
      " 19  status                 8236 non-null   object        \n",
      " 20  tagline                2812 non-null   object        \n",
      " 21  title                  8236 non-null   object        \n",
      " 22  video                  8236 non-null   float64       \n",
      " 23  vote_average           8236 non-null   float64       \n",
      " 24  vote_count             8236 non-null   float64       \n",
      " 25  certification          1515 non-null   object        \n",
      " 26  year                   8057 non-null   float64       \n",
      "dtypes: datetime64[ns](1), float64(10), object(16)\n",
      "memory usage: 1.8+ MB\n"
     ]
    }
   ],
   "source": [
    "released_df['year'] = released_df['release_date'].dt.year\n",
    "released_df.info()"
   ]
  },
  {
   "cell_type": "markdown",
   "id": "a48bb1f9",
   "metadata": {},
   "source": [
    "### Hypothesis defined"
   ]
  },
  {
   "cell_type": "markdown",
   "id": "4efb099a",
   "metadata": {},
   "source": [
    "- $H_0$ (Null Hypothesis): There is no significant difference between revenue and the year a movie was released.\n",
    "- $H_A$ (Alternative Hypothesis):  There is a significant difference between revenue and the year a movie was released"
   ]
  },
  {
   "cell_type": "markdown",
   "id": "aae52c22",
   "metadata": {},
   "source": [
    "###  Determine the correct test to perform.\n",
    "- Type of Data? numeric\n",
    "- How many groups/samples? 2 groups\n",
    "- Therefore, which test is appropriate? 2 sample t-test"
   ]
  },
  {
   "cell_type": "code",
   "execution_count": 50,
   "id": "05df194c",
   "metadata": {},
   "outputs": [],
   "source": [
    "released_df['year_2020'] = released_df['year'] == 2020"
   ]
  },
  {
   "cell_type": "code",
   "execution_count": 62,
   "id": "7e84133d",
   "metadata": {},
   "outputs": [],
   "source": [
    "released_df = released_df.dropna(subset=['year','revenue'])"
   ]
  },
  {
   "cell_type": "code",
   "execution_count": 63,
   "id": "7a74918b",
   "metadata": {},
   "outputs": [
    {
     "data": {
      "text/plain": [
       "False    4871\n",
       "True     3186\n",
       "Name: year_2020, dtype: int64"
      ]
     },
     "execution_count": 63,
     "metadata": {},
     "output_type": "execute_result"
    }
   ],
   "source": [
    "released_df['year_2020'].value_counts()"
   ]
  },
  {
   "cell_type": "code",
   "execution_count": 64,
   "id": "694b9292",
   "metadata": {},
   "outputs": [],
   "source": [
    "## save list of columns needed for each group\n",
    "needed_cols = ['year_2020', 'revenue']"
   ]
  },
  {
   "cell_type": "code",
   "execution_count": 65,
   "id": "b38b6a9c",
   "metadata": {},
   "outputs": [
    {
     "data": {
      "text/html": [
       "<div>\n",
       "<style scoped>\n",
       "    .dataframe tbody tr th:only-of-type {\n",
       "        vertical-align: middle;\n",
       "    }\n",
       "\n",
       "    .dataframe tbody tr th {\n",
       "        vertical-align: top;\n",
       "    }\n",
       "\n",
       "    .dataframe thead th {\n",
       "        text-align: right;\n",
       "    }\n",
       "</style>\n",
       "<table border=\"1\" class=\"dataframe\">\n",
       "  <thead>\n",
       "    <tr style=\"text-align: right;\">\n",
       "      <th></th>\n",
       "      <th>year_2020</th>\n",
       "      <th>revenue</th>\n",
       "    </tr>\n",
       "  </thead>\n",
       "  <tbody>\n",
       "    <tr>\n",
       "      <th>82</th>\n",
       "      <td>True</td>\n",
       "      <td>0.0</td>\n",
       "    </tr>\n",
       "    <tr>\n",
       "      <th>114</th>\n",
       "      <td>True</td>\n",
       "      <td>0.0</td>\n",
       "    </tr>\n",
       "    <tr>\n",
       "      <th>222</th>\n",
       "      <td>True</td>\n",
       "      <td>0.0</td>\n",
       "    </tr>\n",
       "    <tr>\n",
       "      <th>340</th>\n",
       "      <td>True</td>\n",
       "      <td>0.0</td>\n",
       "    </tr>\n",
       "    <tr>\n",
       "      <th>424</th>\n",
       "      <td>True</td>\n",
       "      <td>0.0</td>\n",
       "    </tr>\n",
       "    <tr>\n",
       "      <th>...</th>\n",
       "      <td>...</td>\n",
       "      <td>...</td>\n",
       "    </tr>\n",
       "    <tr>\n",
       "      <th>3713</th>\n",
       "      <td>True</td>\n",
       "      <td>0.0</td>\n",
       "    </tr>\n",
       "    <tr>\n",
       "      <th>3714</th>\n",
       "      <td>True</td>\n",
       "      <td>0.0</td>\n",
       "    </tr>\n",
       "    <tr>\n",
       "      <th>3715</th>\n",
       "      <td>True</td>\n",
       "      <td>0.0</td>\n",
       "    </tr>\n",
       "    <tr>\n",
       "      <th>3716</th>\n",
       "      <td>True</td>\n",
       "      <td>0.0</td>\n",
       "    </tr>\n",
       "    <tr>\n",
       "      <th>3717</th>\n",
       "      <td>True</td>\n",
       "      <td>0.0</td>\n",
       "    </tr>\n",
       "  </tbody>\n",
       "</table>\n",
       "<p>3186 rows × 2 columns</p>\n",
       "</div>"
      ],
      "text/plain": [
       "      year_2020  revenue\n",
       "82         True      0.0\n",
       "114        True      0.0\n",
       "222        True      0.0\n",
       "340        True      0.0\n",
       "424        True      0.0\n",
       "...         ...      ...\n",
       "3713       True      0.0\n",
       "3714       True      0.0\n",
       "3715       True      0.0\n",
       "3716       True      0.0\n",
       "3717       True      0.0\n",
       "\n",
       "[3186 rows x 2 columns]"
      ]
     },
     "execution_count": 65,
     "metadata": {},
     "output_type": "execute_result"
    }
   ],
   "source": [
    "## save year_2020 in separate variable\n",
    "year_2020_df = released_df.loc[released_df['year_2020']==True, needed_cols]\n",
    "year_2020_df"
   ]
  },
  {
   "cell_type": "code",
   "execution_count": 66,
   "id": "6afb9712",
   "metadata": {},
   "outputs": [
    {
     "data": {
      "text/html": [
       "<div>\n",
       "<style scoped>\n",
       "    .dataframe tbody tr th:only-of-type {\n",
       "        vertical-align: middle;\n",
       "    }\n",
       "\n",
       "    .dataframe tbody tr th {\n",
       "        vertical-align: top;\n",
       "    }\n",
       "\n",
       "    .dataframe thead th {\n",
       "        text-align: right;\n",
       "    }\n",
       "</style>\n",
       "<table border=\"1\" class=\"dataframe\">\n",
       "  <thead>\n",
       "    <tr style=\"text-align: right;\">\n",
       "      <th></th>\n",
       "      <th>year_2020</th>\n",
       "      <th>revenue</th>\n",
       "    </tr>\n",
       "  </thead>\n",
       "  <tbody>\n",
       "    <tr>\n",
       "      <th>1</th>\n",
       "      <td>False</td>\n",
       "      <td>0.0</td>\n",
       "    </tr>\n",
       "    <tr>\n",
       "      <th>2</th>\n",
       "      <td>False</td>\n",
       "      <td>0.0</td>\n",
       "    </tr>\n",
       "    <tr>\n",
       "      <th>3</th>\n",
       "      <td>False</td>\n",
       "      <td>0.0</td>\n",
       "    </tr>\n",
       "    <tr>\n",
       "      <th>4</th>\n",
       "      <td>False</td>\n",
       "      <td>0.0</td>\n",
       "    </tr>\n",
       "    <tr>\n",
       "      <th>5</th>\n",
       "      <td>False</td>\n",
       "      <td>0.0</td>\n",
       "    </tr>\n",
       "    <tr>\n",
       "      <th>...</th>\n",
       "      <td>...</td>\n",
       "      <td>...</td>\n",
       "    </tr>\n",
       "    <tr>\n",
       "      <th>3670</th>\n",
       "      <td>False</td>\n",
       "      <td>0.0</td>\n",
       "    </tr>\n",
       "    <tr>\n",
       "      <th>3687</th>\n",
       "      <td>False</td>\n",
       "      <td>0.0</td>\n",
       "    </tr>\n",
       "    <tr>\n",
       "      <th>3693</th>\n",
       "      <td>False</td>\n",
       "      <td>0.0</td>\n",
       "    </tr>\n",
       "    <tr>\n",
       "      <th>3703</th>\n",
       "      <td>False</td>\n",
       "      <td>6435260.0</td>\n",
       "    </tr>\n",
       "    <tr>\n",
       "      <th>3707</th>\n",
       "      <td>False</td>\n",
       "      <td>0.0</td>\n",
       "    </tr>\n",
       "  </tbody>\n",
       "</table>\n",
       "<p>4871 rows × 2 columns</p>\n",
       "</div>"
      ],
      "text/plain": [
       "      year_2020    revenue\n",
       "1         False        0.0\n",
       "2         False        0.0\n",
       "3         False        0.0\n",
       "4         False        0.0\n",
       "5         False        0.0\n",
       "...         ...        ...\n",
       "3670      False        0.0\n",
       "3687      False        0.0\n",
       "3693      False        0.0\n",
       "3703      False  6435260.0\n",
       "3707      False        0.0\n",
       "\n",
       "[4871 rows x 2 columns]"
      ]
     },
     "execution_count": 66,
     "metadata": {},
     "output_type": "execute_result"
    }
   ],
   "source": [
    "## save year_2018 in separate variable\n",
    "year_2018_df = released_df.loc[released_df['year_2020']==False, needed_cols]\n",
    "year_2018_df"
   ]
  },
  {
   "cell_type": "code",
   "execution_count": 67,
   "id": "86625c60",
   "metadata": {},
   "outputs": [
    {
     "data": {
      "text/plain": [
       "<AxesSubplot: xlabel='year_2020', ylabel='revenue'>"
      ]
     },
     "execution_count": 67,
     "metadata": {},
     "output_type": "execute_result"
    },
    {
     "data": {
      "image/png": "[encoded data removed]",
      "text/plain": [
       "<Figure size 640x480 with 1 Axes>"
      ]
     },
     "metadata": {},
     "output_type": "display_data"
    }
   ],
   "source": [
    "sns.barplot(data=released_df, x='year_2020', y='revenue')"
   ]
  },
  {
   "cell_type": "code",
   "execution_count": 68,
   "id": "c511021b",
   "metadata": {},
   "outputs": [
    {
     "data": {
      "text/plain": [
       "82      0.0\n",
       "114     0.0\n",
       "222     0.0\n",
       "340     0.0\n",
       "424     0.0\n",
       "       ... \n",
       "3713    0.0\n",
       "3714    0.0\n",
       "3715    0.0\n",
       "3716    0.0\n",
       "3717    0.0\n",
       "Name: revenue, Length: 3186, dtype: float64"
      ]
     },
     "execution_count": 68,
     "metadata": {},
     "output_type": "execute_result"
    }
   ],
   "source": [
    "## Saving JUST the numeric col as final group variables\n",
    "year_2020_group = year_2020_df['revenue']\n",
    "year_2018_group = year_2018_df['revenue']\n",
    "year_2020_group"
   ]
  },
  {
   "cell_type": "markdown",
   "id": "44d045fd",
   "metadata": {},
   "source": [
    "### Check for Outliers"
   ]
  },
  {
   "cell_type": "code",
   "execution_count": 69,
   "id": "0c6e47b2",
   "metadata": {},
   "outputs": [
    {
     "data": {
      "text/plain": [
       "16"
      ]
     },
     "execution_count": 69,
     "metadata": {},
     "output_type": "execute_result"
    }
   ],
   "source": [
    "## Check year_2020_group for outliers\n",
    "year_2020_outliers = np.abs(stats.zscore(year_2020_group)) > 3\n",
    "\n",
    "## how many outliers?\n",
    "year_2020_outliers.sum()"
   ]
  },
  {
   "cell_type": "code",
   "execution_count": 70,
   "id": "a7bb972d",
   "metadata": {},
   "outputs": [
    {
     "data": {
      "text/plain": [
       "82      0.0\n",
       "114     0.0\n",
       "222     0.0\n",
       "340     0.0\n",
       "424     0.0\n",
       "       ... \n",
       "3713    0.0\n",
       "3714    0.0\n",
       "3715    0.0\n",
       "3716    0.0\n",
       "3717    0.0\n",
       "Name: revenue, Length: 3170, dtype: float64"
      ]
     },
     "execution_count": 70,
     "metadata": {},
     "output_type": "execute_result"
    }
   ],
   "source": [
    "## remove outliers from year_2020_group\n",
    "year_2020_group = year_2020_group.loc[~year_2020_outliers]\n",
    "year_2020_group"
   ]
  },
  {
   "cell_type": "code",
   "execution_count": 71,
   "id": "9cb9a50e",
   "metadata": {},
   "outputs": [
    {
     "data": {
      "text/plain": [
       "40"
      ]
     },
     "execution_count": 71,
     "metadata": {},
     "output_type": "execute_result"
    }
   ],
   "source": [
    "## Check year_2018group for outliers\n",
    "year_2018_outliers = np.abs(stats.zscore(year_2018_group)) > 3\n",
    "\n",
    "## how many outliers?\n",
    "year_2018_outliers.sum()"
   ]
  },
  {
   "cell_type": "code",
   "execution_count": 72,
   "id": "52e6d8e6",
   "metadata": {},
   "outputs": [
    {
     "data": {
      "text/plain": [
       "1             0.0\n",
       "2             0.0\n",
       "3             0.0\n",
       "4             0.0\n",
       "5             0.0\n",
       "          ...    \n",
       "3670          0.0\n",
       "3687          0.0\n",
       "3693          0.0\n",
       "3703    6435260.0\n",
       "3707          0.0\n",
       "Name: revenue, Length: 4831, dtype: float64"
      ]
     },
     "execution_count": 72,
     "metadata": {},
     "output_type": "execute_result"
    }
   ],
   "source": [
    "## remove outliers from year_2018_group\n",
    "year_2018_group = year_2018_group.loc[~year_2018_outliers]\n",
    "year_2018_group"
   ]
  },
  {
   "cell_type": "markdown",
   "id": "b442c2eb",
   "metadata": {},
   "source": [
    "### Test for Normality"
   ]
  },
  {
   "cell_type": "code",
   "execution_count": 73,
   "id": "8302bc9c",
   "metadata": {},
   "outputs": [
    {
     "name": "stdout",
     "output_type": "stream",
     "text": [
      "0.0\n"
     ]
    },
    {
     "data": {
      "text/plain": [
       "True"
      ]
     },
     "execution_count": 73,
     "metadata": {},
     "output_type": "execute_result"
    }
   ],
   "source": [
    "result = stats.normaltest(year_2020_group)\n",
    "print(result.pvalue)\n",
    "result.pvalue < .05"
   ]
  },
  {
   "cell_type": "code",
   "execution_count": 75,
   "id": "a624564e",
   "metadata": {},
   "outputs": [
    {
     "data": {
      "text/plain": [
       "3170"
      ]
     },
     "execution_count": 75,
     "metadata": {},
     "output_type": "execute_result"
    }
   ],
   "source": [
    "len(year_2020_group)"
   ]
  },
  {
   "cell_type": "code",
   "execution_count": 74,
   "id": "e31fab53",
   "metadata": {},
   "outputs": [
    {
     "name": "stdout",
     "output_type": "stream",
     "text": [
      "0.0\n"
     ]
    },
    {
     "data": {
      "text/plain": [
       "True"
      ]
     },
     "execution_count": 74,
     "metadata": {},
     "output_type": "execute_result"
    }
   ],
   "source": [
    "result = stats.normaltest(year_2018_group)\n",
    "print(result.pvalue)\n",
    "result.pvalue < .05"
   ]
  },
  {
   "cell_type": "code",
   "execution_count": 76,
   "id": "598f793a",
   "metadata": {},
   "outputs": [
    {
     "data": {
      "text/plain": [
       "4831"
      ]
     },
     "execution_count": 76,
     "metadata": {},
     "output_type": "execute_result"
    }
   ],
   "source": [
    "len(year_2018_group)"
   ]
  },
  {
   "cell_type": "markdown",
   "id": "7a31bd6d",
   "metadata": {},
   "source": [
    "- We reject the null hypothesis and support that there is a statistical difference between our distribution and a normal distribution.\n",
    "- Since both groups have n > 15, we can safely ignore the assumption of normality."
   ]
  },
  {
   "cell_type": "markdown",
   "id": "22e77e0b",
   "metadata": {},
   "source": [
    "### Check for Equal Variance"
   ]
  },
  {
   "cell_type": "code",
   "execution_count": 77,
   "id": "99721f86",
   "metadata": {},
   "outputs": [
    {
     "name": "stdout",
     "output_type": "stream",
     "text": [
      "LeveneResult(statistic=35.70906702270277, pvalue=2.3890701099351984e-09)\n",
      "True\n"
     ]
    }
   ],
   "source": [
    "result = stats.levene(year_2020_group, year_2018_group)\n",
    "print(result)\n",
    "print(result.pvalue<.05)"
   ]
  },
  {
   "cell_type": "code",
   "execution_count": 78,
   "id": "358cfe22",
   "metadata": {},
   "outputs": [
    {
     "name": "stdout",
     "output_type": "stream",
     "text": [
      "The groups do NOT have equal variance.\n"
     ]
    }
   ],
   "source": [
    "## Use an if-else to help interpret the p-value\n",
    "if result.pvalue < 0.5:\n",
    "    print(f'The groups do NOT have equal variance.')\n",
    "else:\n",
    "    print(f'the groups DO have equal variance.')"
   ]
  },
  {
   "cell_type": "markdown",
   "id": "730a41a2",
   "metadata": {},
   "source": [
    "- According to the documentation, the null hypothesis for the test is that both groups have equal variance. Since our pvalue is less than .05, we reject the null hypothesis.\n",
    "- We will run a Welch's t-test instead by adding equal_var=False to stats.ttest_ind."
   ]
  },
  {
   "cell_type": "markdown",
   "id": "15643def",
   "metadata": {},
   "source": [
    "### Perfom and Evaluate t-test"
   ]
  },
  {
   "cell_type": "code",
   "execution_count": 79,
   "id": "0f3825ad",
   "metadata": {},
   "outputs": [
    {
     "name": "stdout",
     "output_type": "stream",
     "text": [
      "Ttest_indResult(statistic=-7.112447156789017, pvalue=1.2704420408036196e-12)\n"
     ]
    },
    {
     "data": {
      "text/plain": [
       "True"
      ]
     },
     "execution_count": 79,
     "metadata": {},
     "output_type": "execute_result"
    }
   ],
   "source": [
    "result = stats.ttest_ind(year_2020_group, year_2018_group, equal_var=False)\n",
    "print(result)\n",
    "result.pvalue < .05"
   ]
  },
  {
   "cell_type": "markdown",
   "id": "1ea24c6b",
   "metadata": {},
   "source": [
    "- Our Welch's T-Test return a p-value < .05 we reject the null hypothesis and support the alternative hypothesis that there is a significant difference in revenue for movies released in 2020 vs movies released in 2018.\n",
    "- In order to know if they are sold significantly MORE or LESS, we look at the actual means of our final groups"
   ]
  },
  {
   "cell_type": "code",
   "execution_count": 80,
   "id": "ea3e6b8e",
   "metadata": {},
   "outputs": [
    {
     "name": "stdout",
     "output_type": "stream",
     "text": [
      "The average revenue for year_2020_group was  461733.37\n",
      "There average revenue for year_2018_group was  1711880.33\n"
     ]
    }
   ],
   "source": [
    "print(f'The average revenue for year_2020_group was {year_2020_group.mean(): .2f}')\n",
    "print(f'There average revenue for year_2018_group was {year_2018_group.mean(): .2f}')"
   ]
  },
  {
   "cell_type": "code",
   "execution_count": 81,
   "id": "e74fb9b5",
   "metadata": {},
   "outputs": [
    {
     "data": {
      "text/html": [
       "<div>\n",
       "<style scoped>\n",
       "    .dataframe tbody tr th:only-of-type {\n",
       "        vertical-align: middle;\n",
       "    }\n",
       "\n",
       "    .dataframe tbody tr th {\n",
       "        vertical-align: top;\n",
       "    }\n",
       "\n",
       "    .dataframe thead th {\n",
       "        text-align: right;\n",
       "    }\n",
       "</style>\n",
       "<table border=\"1\" class=\"dataframe\">\n",
       "  <thead>\n",
       "    <tr style=\"text-align: right;\">\n",
       "      <th></th>\n",
       "      <th>year_2020</th>\n",
       "      <th>revenue</th>\n",
       "    </tr>\n",
       "  </thead>\n",
       "  <tbody>\n",
       "    <tr>\n",
       "      <th>82</th>\n",
       "      <td>True</td>\n",
       "      <td>0.0</td>\n",
       "    </tr>\n",
       "    <tr>\n",
       "      <th>114</th>\n",
       "      <td>True</td>\n",
       "      <td>0.0</td>\n",
       "    </tr>\n",
       "    <tr>\n",
       "      <th>222</th>\n",
       "      <td>True</td>\n",
       "      <td>0.0</td>\n",
       "    </tr>\n",
       "    <tr>\n",
       "      <th>340</th>\n",
       "      <td>True</td>\n",
       "      <td>0.0</td>\n",
       "    </tr>\n",
       "    <tr>\n",
       "      <th>424</th>\n",
       "      <td>True</td>\n",
       "      <td>0.0</td>\n",
       "    </tr>\n",
       "    <tr>\n",
       "      <th>...</th>\n",
       "      <td>...</td>\n",
       "      <td>...</td>\n",
       "    </tr>\n",
       "    <tr>\n",
       "      <th>3670</th>\n",
       "      <td>False</td>\n",
       "      <td>0.0</td>\n",
       "    </tr>\n",
       "    <tr>\n",
       "      <th>3687</th>\n",
       "      <td>False</td>\n",
       "      <td>0.0</td>\n",
       "    </tr>\n",
       "    <tr>\n",
       "      <th>3693</th>\n",
       "      <td>False</td>\n",
       "      <td>0.0</td>\n",
       "    </tr>\n",
       "    <tr>\n",
       "      <th>3703</th>\n",
       "      <td>False</td>\n",
       "      <td>6435260.0</td>\n",
       "    </tr>\n",
       "    <tr>\n",
       "      <th>3707</th>\n",
       "      <td>False</td>\n",
       "      <td>0.0</td>\n",
       "    </tr>\n",
       "  </tbody>\n",
       "</table>\n",
       "<p>8001 rows × 2 columns</p>\n",
       "</div>"
      ],
      "text/plain": [
       "      year_2020    revenue\n",
       "82         True        0.0\n",
       "114        True        0.0\n",
       "222        True        0.0\n",
       "340        True        0.0\n",
       "424        True        0.0\n",
       "...         ...        ...\n",
       "3670      False        0.0\n",
       "3687      False        0.0\n",
       "3693      False        0.0\n",
       "3703      False  6435260.0\n",
       "3707      False        0.0\n",
       "\n",
       "[8001 rows x 2 columns]"
      ]
     },
     "execution_count": 81,
     "metadata": {},
     "output_type": "execute_result"
    }
   ],
   "source": [
    "# create dataframe without outliers\n",
    "plot_df = pd.concat([year_2020_df.loc[~year_2020_outliers],\n",
    "                    year_2018_df.loc[~year_2018_outliers]], axis=0)\n",
    "plot_df"
   ]
  },
  {
   "cell_type": "code",
   "execution_count": 82,
   "id": "247e5240",
   "metadata": {},
   "outputs": [
    {
     "data": {
      "text/plain": [
       "<AxesSubplot: xlabel='year_2020', ylabel='revenue'>"
      ]
     },
     "execution_count": 82,
     "metadata": {},
     "output_type": "execute_result"
    },
    {
     "data": {
      "image/png": "[encoded data removed]",
      "text/plain": [
       "<Figure size 640x480 with 1 Axes>"
      ]
     },
     "metadata": {},
     "output_type": "display_data"
    }
   ],
   "source": [
    "# vizualize means without outliers\n",
    "sns.barplot(data=plot_df, x='year_2020', y='revenue')"
   ]
  },
  {
   "cell_type": "markdown",
   "id": "b0f41280",
   "metadata": {},
   "source": [
    "- There is a higher mean revenue for movies released in 2018 vs movies released in 2020."
   ]
  },
  {
   "cell_type": "code",
   "execution_count": null,
   "id": "683b3bee",
   "metadata": {},
   "outputs": [],
   "source": []
  }
 ],
 "metadata": {
  "kernelspec": {
   "display_name": "Python (dojo-env)",
   "language": "python",
   "name": "dojo-env"
  },
  "language_info": {
   "codemirror_mode": {
    "name": "ipython",
    "version": 3
   },
   "file_extension": ".py",
   "mimetype": "text/x-python",
   "name": "python",
   "nbconvert_exporter": "python",
   "pygments_lexer": "ipython3",
   "version": "3.9.15"
  },
  "toc": {
   "base_numbering": 1,
   "nav_menu": {},
   "number_sections": false,
   "sideBar": true,
   "skip_h1_title": false,
   "title_cell": "Table of Contents",
   "title_sidebar": "Contents",
   "toc_cell": false,
   "toc_position": {
    "height": "calc(100% - 180px)",
    "left": "10px",
    "top": "150px",
    "width": "355.753662px"
   },
   "toc_section_display": true,
   "toc_window_display": true
  }
 },
 "nbformat": 4,
 "nbformat_minor": 5
}

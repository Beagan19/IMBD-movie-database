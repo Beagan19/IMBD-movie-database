{
 "cells": [
  {
   "cell_type": "code",
   "execution_count": 1,
   "id": "15fb0b01",
   "metadata": {},
   "outputs": [],
   "source": [
    "import pandas as pd\n",
    "import numpy as np\n",
    "import seaborn as sns\n",
    "import matplotlib.pyplot as plt\n",
    "import json\n",
    "from scipy import stats\n",
    "import scipy"
   ]
  },
  {
   "cell_type": "code",
   "execution_count": 2,
   "id": "d5d0cf5a",
   "metadata": {},
   "outputs": [],
   "source": [
    "basics = pd.read_csv('Data/title_basics.csv.gz',low_memory = False)\n",
    "akas = pd.read_csv('Data/title_akas.csv.gz',low_memory = False)\n",
    "ratings = pd.read_csv('Data/title_ratings.csv.gz', low_memory = False)\n",
    "year_2000 = pd.read_csv('Data/final_tmdb_data_2000.csv.gz', low_memory = False)\n",
    "year_2001 = pd.read_csv('Data/final_tmdb_data_2001.csv', low_memory = False)\n",
    "year_2010 = pd.read_csv('Data/final_tmdb_data_2010.csv', low_memory = False)\n",
    "year_2011 = pd.read_csv('Data/final_tmdb_data_2011.csv', low_memory = False, lineterminator='\\n')\n",
    "year_2012 = pd.read_csv('Data/final_tmdb_data_2012.csv', low_memory = False, lineterminator='\\n')\n",
    "year_2013 = pd.read_csv('Data/final_tmdb_data_2013.csv', low_memory = False)\n",
    "year_2014 = pd.read_csv('Data/final_tmdb_data_2014.csv', low_memory = False, lineterminator='\\n')\n",
    "year_2015 = pd.read_csv('Data/final_tmdb_data_2015.csv', low_memory = False, lineterminator='\\n')\n",
    "year_2016 = pd.read_csv('Data/final_tmdb_data_2016.csv', low_memory = False)\n",
    "year_2017 = pd.read_csv('Data/final_tmdb_data_2017.csv', low_memory = False, lineterminator='\\n')\n",
    "year_2018 = pd.read_csv('Data/final_tmdb_data_2018.csv', low_memory = False, lineterminator='\\n')\n",
    "year_2019 = pd.read_csv('Data/final_tmdb_data_2019.csv', low_memory = False, lineterminator='\\n')\n",
    "year_2020 = pd.read_csv('Data/final_tmdb_data_2020.csv', low_memory = False, lineterminator='\\n')\n",
    "year_2021 = pd.read_csv('Data/final_tmdb_data_2021.csv', low_memory = False)"
   ]
  },
  {
   "cell_type": "code",
   "execution_count": 3,
   "id": "e00390fe",
   "metadata": {
    "scrolled": true
   },
   "outputs": [
    {
     "data": {
      "text/html": [
       "<div>\n",
       "<style scoped>\n",
       "    .dataframe tbody tr th:only-of-type {\n",
       "        vertical-align: middle;\n",
       "    }\n",
       "\n",
       "    .dataframe tbody tr th {\n",
       "        vertical-align: top;\n",
       "    }\n",
       "\n",
       "    .dataframe thead th {\n",
       "        text-align: right;\n",
       "    }\n",
       "</style>\n",
       "<table border=\"1\" class=\"dataframe\">\n",
       "  <thead>\n",
       "    <tr style=\"text-align: right;\">\n",
       "      <th></th>\n",
       "      <th>imdb_id</th>\n",
       "      <th>adult</th>\n",
       "      <th>backdrop_path</th>\n",
       "      <th>belongs_to_collection</th>\n",
       "      <th>budget</th>\n",
       "      <th>genres</th>\n",
       "      <th>homepage</th>\n",
       "      <th>id</th>\n",
       "      <th>original_language</th>\n",
       "      <th>original_title</th>\n",
       "      <th>...</th>\n",
       "      <th>revenue</th>\n",
       "      <th>runtime</th>\n",
       "      <th>spoken_languages</th>\n",
       "      <th>status</th>\n",
       "      <th>tagline</th>\n",
       "      <th>title</th>\n",
       "      <th>video</th>\n",
       "      <th>vote_average</th>\n",
       "      <th>vote_count</th>\n",
       "      <th>certification</th>\n",
       "    </tr>\n",
       "  </thead>\n",
       "  <tbody>\n",
       "    <tr>\n",
       "      <th>0</th>\n",
       "      <td>0</td>\n",
       "      <td>NaN</td>\n",
       "      <td>NaN</td>\n",
       "      <td>NaN</td>\n",
       "      <td>NaN</td>\n",
       "      <td>NaN</td>\n",
       "      <td>NaN</td>\n",
       "      <td>NaN</td>\n",
       "      <td>NaN</td>\n",
       "      <td>NaN</td>\n",
       "      <td>...</td>\n",
       "      <td>NaN</td>\n",
       "      <td>NaN</td>\n",
       "      <td>NaN</td>\n",
       "      <td>NaN</td>\n",
       "      <td>NaN</td>\n",
       "      <td>NaN</td>\n",
       "      <td>NaN</td>\n",
       "      <td>NaN</td>\n",
       "      <td>NaN</td>\n",
       "      <td>NaN</td>\n",
       "    </tr>\n",
       "    <tr>\n",
       "      <th>1</th>\n",
       "      <td>tt0113026</td>\n",
       "      <td>0.0</td>\n",
       "      <td>/vMFs7nw6P0bIV1jDsQpxAieAVnH.jpg</td>\n",
       "      <td>NaN</td>\n",
       "      <td>10000000.0</td>\n",
       "      <td>[{'id': 35, 'name': 'Comedy'}, {'id': 10402, '...</td>\n",
       "      <td>NaN</td>\n",
       "      <td>62127.0</td>\n",
       "      <td>en</td>\n",
       "      <td>The Fantasticks</td>\n",
       "      <td>...</td>\n",
       "      <td>0.0</td>\n",
       "      <td>86.0</td>\n",
       "      <td>[{'english_name': 'English', 'iso_639_1': 'en'...</td>\n",
       "      <td>Released</td>\n",
       "      <td>Try to remember the first time magic happened</td>\n",
       "      <td>The Fantasticks</td>\n",
       "      <td>0.0</td>\n",
       "      <td>5.50</td>\n",
       "      <td>22.0</td>\n",
       "      <td>NaN</td>\n",
       "    </tr>\n",
       "    <tr>\n",
       "      <th>2</th>\n",
       "      <td>tt0113092</td>\n",
       "      <td>0.0</td>\n",
       "      <td>NaN</td>\n",
       "      <td>NaN</td>\n",
       "      <td>0.0</td>\n",
       "      <td>[{'id': 878, 'name': 'Science Fiction'}]</td>\n",
       "      <td>NaN</td>\n",
       "      <td>110977.0</td>\n",
       "      <td>en</td>\n",
       "      <td>For the Cause</td>\n",
       "      <td>...</td>\n",
       "      <td>0.0</td>\n",
       "      <td>100.0</td>\n",
       "      <td>[{'english_name': 'English', 'iso_639_1': 'en'...</td>\n",
       "      <td>Released</td>\n",
       "      <td>The ultimate showdown on a forbidden planet.</td>\n",
       "      <td>For the Cause</td>\n",
       "      <td>0.0</td>\n",
       "      <td>5.10</td>\n",
       "      <td>8.0</td>\n",
       "      <td>NaN</td>\n",
       "    </tr>\n",
       "    <tr>\n",
       "      <th>3</th>\n",
       "      <td>tt0116391</td>\n",
       "      <td>0.0</td>\n",
       "      <td>NaN</td>\n",
       "      <td>NaN</td>\n",
       "      <td>0.0</td>\n",
       "      <td>[{'id': 18, 'name': 'Drama'}, {'id': 28, 'name...</td>\n",
       "      <td>NaN</td>\n",
       "      <td>442869.0</td>\n",
       "      <td>hi</td>\n",
       "      <td>Gang</td>\n",
       "      <td>...</td>\n",
       "      <td>0.0</td>\n",
       "      <td>152.0</td>\n",
       "      <td>[{'english_name': 'Hindi', 'iso_639_1': 'hi', ...</td>\n",
       "      <td>Released</td>\n",
       "      <td>NaN</td>\n",
       "      <td>Gang</td>\n",
       "      <td>0.0</td>\n",
       "      <td>4.00</td>\n",
       "      <td>1.0</td>\n",
       "      <td>NaN</td>\n",
       "    </tr>\n",
       "    <tr>\n",
       "      <th>4</th>\n",
       "      <td>tt0118694</td>\n",
       "      <td>0.0</td>\n",
       "      <td>/n4GJFGzsc7NinI1VeGDXIcQjtU2.jpg</td>\n",
       "      <td>NaN</td>\n",
       "      <td>150000.0</td>\n",
       "      <td>[{'id': 18, 'name': 'Drama'}, {'id': 10749, 'n...</td>\n",
       "      <td>NaN</td>\n",
       "      <td>843.0</td>\n",
       "      <td>cn</td>\n",
       "      <td>花樣年華</td>\n",
       "      <td>...</td>\n",
       "      <td>12854953.0</td>\n",
       "      <td>99.0</td>\n",
       "      <td>[{'english_name': 'Cantonese', 'iso_639_1': 'c...</td>\n",
       "      <td>Released</td>\n",
       "      <td>Feel the heat, keep the feeling burning, let t...</td>\n",
       "      <td>In the Mood for Love</td>\n",
       "      <td>0.0</td>\n",
       "      <td>8.11</td>\n",
       "      <td>2162.0</td>\n",
       "      <td>PG</td>\n",
       "    </tr>\n",
       "  </tbody>\n",
       "</table>\n",
       "<p>5 rows × 26 columns</p>\n",
       "</div>"
      ],
      "text/plain": [
       "     imdb_id  adult                     backdrop_path belongs_to_collection  \\\n",
       "0          0    NaN                               NaN                   NaN   \n",
       "1  tt0113026    0.0  /vMFs7nw6P0bIV1jDsQpxAieAVnH.jpg                   NaN   \n",
       "2  tt0113092    0.0                               NaN                   NaN   \n",
       "3  tt0116391    0.0                               NaN                   NaN   \n",
       "4  tt0118694    0.0  /n4GJFGzsc7NinI1VeGDXIcQjtU2.jpg                   NaN   \n",
       "\n",
       "       budget                                             genres homepage  \\\n",
       "0         NaN                                                NaN      NaN   \n",
       "1  10000000.0  [{'id': 35, 'name': 'Comedy'}, {'id': 10402, '...      NaN   \n",
       "2         0.0           [{'id': 878, 'name': 'Science Fiction'}]      NaN   \n",
       "3         0.0  [{'id': 18, 'name': 'Drama'}, {'id': 28, 'name...      NaN   \n",
       "4    150000.0  [{'id': 18, 'name': 'Drama'}, {'id': 10749, 'n...      NaN   \n",
       "\n",
       "         id original_language   original_title  ...     revenue  runtime  \\\n",
       "0       NaN               NaN              NaN  ...         NaN      NaN   \n",
       "1   62127.0                en  The Fantasticks  ...         0.0     86.0   \n",
       "2  110977.0                en    For the Cause  ...         0.0    100.0   \n",
       "3  442869.0                hi             Gang  ...         0.0    152.0   \n",
       "4     843.0                cn             花樣年華  ...  12854953.0     99.0   \n",
       "\n",
       "                                    spoken_languages    status  \\\n",
       "0                                                NaN       NaN   \n",
       "1  [{'english_name': 'English', 'iso_639_1': 'en'...  Released   \n",
       "2  [{'english_name': 'English', 'iso_639_1': 'en'...  Released   \n",
       "3  [{'english_name': 'Hindi', 'iso_639_1': 'hi', ...  Released   \n",
       "4  [{'english_name': 'Cantonese', 'iso_639_1': 'c...  Released   \n",
       "\n",
       "                                             tagline                 title  \\\n",
       "0                                                NaN                   NaN   \n",
       "1      Try to remember the first time magic happened       The Fantasticks   \n",
       "2       The ultimate showdown on a forbidden planet.         For the Cause   \n",
       "3                                                NaN                  Gang   \n",
       "4  Feel the heat, keep the feeling burning, let t...  In the Mood for Love   \n",
       "\n",
       "   video  vote_average vote_count certification  \n",
       "0    NaN           NaN        NaN           NaN  \n",
       "1    0.0          5.50       22.0           NaN  \n",
       "2    0.0          5.10        8.0           NaN  \n",
       "3    0.0          4.00        1.0           NaN  \n",
       "4    0.0          8.11     2162.0            PG  \n",
       "\n",
       "[5 rows x 26 columns]"
      ]
     },
     "execution_count": 3,
     "metadata": {},
     "output_type": "execute_result"
    }
   ],
   "source": [
    "tmdb_df = pd.concat([year_2000, year_2001, year_2010,year_2011, year_2012, \n",
    "                     year_2013,year_2014, year_2015, year_2016, year_2017, \n",
    "                     year_2018, year_2019, year_2020, year_2021])\n",
    "tmdb_df.head()"
   ]
  },
  {
   "cell_type": "code",
   "execution_count": 4,
   "id": "b113cebf",
   "metadata": {},
   "outputs": [
    {
     "name": "stdout",
     "output_type": "stream",
     "text": [
      "<class 'pandas.core.frame.DataFrame'>\n",
      "Int64Index: 46648 entries, 0 to 3532\n",
      "Data columns (total 26 columns):\n",
      " #   Column                 Non-Null Count  Dtype  \n",
      "---  ------                 --------------  -----  \n",
      " 0   imdb_id                46648 non-null  object \n",
      " 1   adult                  46634 non-null  float64\n",
      " 2   backdrop_path          30144 non-null  object \n",
      " 3   belongs_to_collection  2758 non-null   object \n",
      " 4   budget                 46634 non-null  float64\n",
      " 5   genres                 46634 non-null  object \n",
      " 6   homepage               12260 non-null  object \n",
      " 7   id                     46634 non-null  float64\n",
      " 8   original_language      46634 non-null  object \n",
      " 9   original_title         46634 non-null  object \n",
      " 10  overview               45609 non-null  object \n",
      " 11  popularity             46634 non-null  float64\n",
      " 12  poster_path            42958 non-null  object \n",
      " 13  production_companies   46634 non-null  object \n",
      " 14  production_countries   46634 non-null  object \n",
      " 15  release_date           45823 non-null  object \n",
      " 16  revenue                46634 non-null  float64\n",
      " 17  runtime                46116 non-null  float64\n",
      " 18  spoken_languages       46634 non-null  object \n",
      " 19  status                 46634 non-null  object \n",
      " 20  tagline                16624 non-null  object \n",
      " 21  title                  46634 non-null  object \n",
      " 22  video                  46634 non-null  float64\n",
      " 23  vote_average           46634 non-null  float64\n",
      " 24  vote_count             46634 non-null  float64\n",
      " 25  certification          10316 non-null  object \n",
      "dtypes: float64(9), object(17)\n",
      "memory usage: 9.6+ MB\n"
     ]
    }
   ],
   "source": [
    "tmdb_df.info()"
   ]
  },
  {
   "cell_type": "code",
   "execution_count": 5,
   "id": "429ac031",
   "metadata": {},
   "outputs": [],
   "source": [
    "tmdb_df = tmdb_df.dropna(subset=['certification','revenue'])"
   ]
  },
  {
   "cell_type": "markdown",
   "id": "4687e825",
   "metadata": {},
   "source": [
    "## Hypothesis Testing"
   ]
  },
  {
   "cell_type": "markdown",
   "id": "d83da59a",
   "metadata": {},
   "source": [
    "- $H_0$ (Null Hypothesis): There is no significant difference between revenue and the rating of a movie.\n",
    "- $H_A$ (Alternative Hypothesis):  There is a significant difference between revenue and the rating of a movie."
   ]
  },
  {
   "cell_type": "markdown",
   "id": "e2c14e46",
   "metadata": {},
   "source": [
    "###  Determine the correct test to perform.\n",
    "- Type of Data? numeric\n",
    "- How many groups/samples? > 2 groups\n",
    "- Therefore, which test is appropriate? ANOVA"
   ]
  },
  {
   "cell_type": "code",
   "execution_count": 6,
   "id": "0ed2b879",
   "metadata": {},
   "outputs": [],
   "source": [
    "tmdb_df = tmdb_df[tmdb_df.revenue !=0]"
   ]
  },
  {
   "cell_type": "code",
   "execution_count": 7,
   "id": "579ce35b",
   "metadata": {},
   "outputs": [
    {
     "data": {
      "text/plain": [
       "dict_keys(['PG', 'R', 'G', 'PG-13', 'NR', 'NC-17', 'R ', 'PG-13 '])"
      ]
     },
     "execution_count": 7,
     "metadata": {},
     "output_type": "execute_result"
    }
   ],
   "source": [
    "# Create groups dictionary.\n",
    "groups = {}\n",
    "## Loop through all unique categories\n",
    "for rating in tmdb_df['certification'].unique():\n",
    "    ## Get series for group and rename\n",
    "    data = tmdb_df.loc[tmdb_df['certification']==rating,'revenue'].copy()\n",
    "    \n",
    "    # save into the dictionary\n",
    "    groups[rating] = data\n",
    "groups.keys()"
   ]
  },
  {
   "cell_type": "code",
   "execution_count": 8,
   "id": "5a49efbd",
   "metadata": {},
   "outputs": [
    {
     "name": "stdout",
     "output_type": "stream",
     "text": [
      "There were 14 outliers in the PG group.\n",
      "There were 34 outliers in the R group.\n",
      "There were 2 outliers in the G group.\n",
      "There were 25 outliers in the PG-13 group.\n",
      "There were 3 outliers in the NR group.\n",
      "There were 0 outliers in the NC-17 group.\n",
      "There were 0 outliers in the R  group.\n",
      "There were 0 outliers in the PG-13  group.\n"
     ]
    }
   ],
   "source": [
    "## Loop through groups dict\n",
    "for rating, data in groups.items():\n",
    "\n",
    "    ## determine if there are any outliers\n",
    "    outliers = np.abs(stats.zscore(data)) > 3\n",
    "    \n",
    "    ## print a statement about how many outliers for which group name\n",
    "    print(f\"There were {outliers.sum()} outliers in the {rating} group.\")\n",
    "\n",
    "    ## Remove the outiers from data and overwrite the region data in the dict\n",
    "    data = data.loc[~outliers]\n",
    "    groups[rating] = data"
   ]
  },
  {
   "cell_type": "code",
   "execution_count": 10,
   "id": "4312b392",
   "metadata": {},
   "outputs": [
    {
     "ename": "ValueError",
     "evalue": "skewtest is not valid with less than 8 samples; 1 samples were given.",
     "output_type": "error",
     "traceback": [
      "\u001b[0;31m---------------------------------------------------------------------------\u001b[0m",
      "\u001b[0;31mValueError\u001b[0m                                Traceback (most recent call last)",
      "Cell \u001b[0;32mIn [10], line 10\u001b[0m\n\u001b[1;32m      7\u001b[0m \u001b[38;5;66;03m## loop through group dict\u001b[39;00m\n\u001b[1;32m      8\u001b[0m \u001b[38;5;28;01mfor\u001b[39;00m rating, data \u001b[38;5;129;01min\u001b[39;00m groups\u001b[38;5;241m.\u001b[39mitems():\n\u001b[1;32m      9\u001b[0m     \u001b[38;5;66;03m## calculate normaltest results\u001b[39;00m\n\u001b[0;32m---> 10\u001b[0m     stat, p \u001b[38;5;241m=\u001b[39m \u001b[43mstats\u001b[49m\u001b[38;5;241;43m.\u001b[39;49m\u001b[43mnormaltest\u001b[49m\u001b[43m(\u001b[49m\u001b[43mdata\u001b[49m\u001b[43m)\u001b[49m\n\u001b[1;32m     12\u001b[0m     \u001b[38;5;66;03m## Append the right info into norm_resutls (as a list)\u001b[39;00m\n\u001b[1;32m     13\u001b[0m     norm_results\u001b[38;5;241m.\u001b[39mappend([rating,\u001b[38;5;28mlen\u001b[39m(data), p, p\u001b[38;5;241m<\u001b[39m\u001b[38;5;241m.05\u001b[39m])\n",
      "File \u001b[0;32m/opt/homebrew/Caskroom/miniforge/base/envs/dojo-env/lib/python3.9/site-packages/scipy/stats/_stats_py.py:1868\u001b[0m, in \u001b[0;36mnormaltest\u001b[0;34m(a, axis, nan_policy)\u001b[0m\n\u001b[1;32m   1865\u001b[0m     a \u001b[38;5;241m=\u001b[39m ma\u001b[38;5;241m.\u001b[39mmasked_invalid(a)\n\u001b[1;32m   1866\u001b[0m     \u001b[38;5;28;01mreturn\u001b[39;00m mstats_basic\u001b[38;5;241m.\u001b[39mnormaltest(a, axis)\n\u001b[0;32m-> 1868\u001b[0m s, _ \u001b[38;5;241m=\u001b[39m \u001b[43mskewtest\u001b[49m\u001b[43m(\u001b[49m\u001b[43ma\u001b[49m\u001b[43m,\u001b[49m\u001b[43m \u001b[49m\u001b[43maxis\u001b[49m\u001b[43m)\u001b[49m\n\u001b[1;32m   1869\u001b[0m k, _ \u001b[38;5;241m=\u001b[39m kurtosistest(a, axis)\n\u001b[1;32m   1870\u001b[0m k2 \u001b[38;5;241m=\u001b[39m s\u001b[38;5;241m*\u001b[39ms \u001b[38;5;241m+\u001b[39m k\u001b[38;5;241m*\u001b[39mk\n",
      "File \u001b[0;32m/opt/homebrew/Caskroom/miniforge/base/envs/dojo-env/lib/python3.9/site-packages/scipy/stats/_stats_py.py:1673\u001b[0m, in \u001b[0;36mskewtest\u001b[0;34m(a, axis, nan_policy, alternative)\u001b[0m\n\u001b[1;32m   1671\u001b[0m n \u001b[38;5;241m=\u001b[39m a\u001b[38;5;241m.\u001b[39mshape[axis]\n\u001b[1;32m   1672\u001b[0m \u001b[38;5;28;01mif\u001b[39;00m n \u001b[38;5;241m<\u001b[39m \u001b[38;5;241m8\u001b[39m:\n\u001b[0;32m-> 1673\u001b[0m     \u001b[38;5;28;01mraise\u001b[39;00m \u001b[38;5;167;01mValueError\u001b[39;00m(\n\u001b[1;32m   1674\u001b[0m         \u001b[38;5;124m\"\u001b[39m\u001b[38;5;124mskewtest is not valid with less than 8 samples; \u001b[39m\u001b[38;5;132;01m%i\u001b[39;00m\u001b[38;5;124m samples\u001b[39m\u001b[38;5;124m\"\u001b[39m\n\u001b[1;32m   1675\u001b[0m         \u001b[38;5;124m\"\u001b[39m\u001b[38;5;124m were given.\u001b[39m\u001b[38;5;124m\"\u001b[39m \u001b[38;5;241m%\u001b[39m \u001b[38;5;28mint\u001b[39m(n))\n\u001b[1;32m   1676\u001b[0m y \u001b[38;5;241m=\u001b[39m b2 \u001b[38;5;241m*\u001b[39m math\u001b[38;5;241m.\u001b[39msqrt(((n \u001b[38;5;241m+\u001b[39m \u001b[38;5;241m1\u001b[39m) \u001b[38;5;241m*\u001b[39m (n \u001b[38;5;241m+\u001b[39m \u001b[38;5;241m3\u001b[39m)) \u001b[38;5;241m/\u001b[39m (\u001b[38;5;241m6.0\u001b[39m \u001b[38;5;241m*\u001b[39m (n \u001b[38;5;241m-\u001b[39m \u001b[38;5;241m2\u001b[39m)))\n\u001b[1;32m   1677\u001b[0m beta2 \u001b[38;5;241m=\u001b[39m (\u001b[38;5;241m3.0\u001b[39m \u001b[38;5;241m*\u001b[39m (n\u001b[38;5;241m*\u001b[39m\u001b[38;5;241m*\u001b[39m\u001b[38;5;241m2\u001b[39m \u001b[38;5;241m+\u001b[39m \u001b[38;5;241m27\u001b[39m\u001b[38;5;241m*\u001b[39mn \u001b[38;5;241m-\u001b[39m \u001b[38;5;241m70\u001b[39m) \u001b[38;5;241m*\u001b[39m (n\u001b[38;5;241m+\u001b[39m\u001b[38;5;241m1\u001b[39m) \u001b[38;5;241m*\u001b[39m (n\u001b[38;5;241m+\u001b[39m\u001b[38;5;241m3\u001b[39m) \u001b[38;5;241m/\u001b[39m\n\u001b[1;32m   1678\u001b[0m          ((n\u001b[38;5;241m-\u001b[39m\u001b[38;5;241m2.0\u001b[39m) \u001b[38;5;241m*\u001b[39m (n\u001b[38;5;241m+\u001b[39m\u001b[38;5;241m5\u001b[39m) \u001b[38;5;241m*\u001b[39m (n\u001b[38;5;241m+\u001b[39m\u001b[38;5;241m7\u001b[39m) \u001b[38;5;241m*\u001b[39m (n\u001b[38;5;241m+\u001b[39m\u001b[38;5;241m9\u001b[39m)))\n",
      "\u001b[0;31mValueError\u001b[0m: skewtest is not valid with less than 8 samples; 1 samples were given."
     ]
    }
   ],
   "source": [
    "## Running normal test on each group and confirming there are >20 in each group\n",
    "\n",
    "## Save a list with an inner list of column names\n",
    "norm_results = [['group','n','pval','sig?']]\n",
    "\n",
    "\n",
    "## loop through group dict\n",
    "for rating, data in groups.items():\n",
    "    ## calculate normaltest results\n",
    "    stat, p = stats.normaltest(data)\n",
    "    \n",
    "    ## Append the right info into norm_resutls (as a list)\n",
    "    norm_results.append([rating,len(data), p, p<.05])\n",
    "    \n",
    "    \n",
    "## Make norm_results a dataframe (first row is columns, everything else data)\n",
    "normal_results = pd.DataFrame(norm_results[1:], columns = norm_results[0])\n",
    "normal_results"
   ]
  },
  {
   "cell_type": "markdown",
   "id": "0908d571",
   "metadata": {},
   "source": [
    "- We failed the assumpution for normality for G and NR groups. "
   ]
  },
  {
   "cell_type": "code",
   "execution_count": null,
   "id": "31004757",
   "metadata": {},
   "outputs": [],
   "source": [
    "## Use Levene's test for equal variance\n",
    "result = stats.levene(*groups.values())\n",
    "print(result)"
   ]
  },
  {
   "cell_type": "markdown",
   "id": "0b4a58a0",
   "metadata": {},
   "source": [
    "- We reject the null hypothesis of equal variance.\n",
    "- We wanted to run ANOVA test, but will need to use Kruskal-Wallis test insead."
   ]
  },
  {
   "cell_type": "code",
   "execution_count": null,
   "id": "d0caf39d",
   "metadata": {},
   "outputs": [],
   "source": [
    "## Running Krukal Test for Original Hypothesis\n",
    "result = stats.kruskal(*groups.values())\n",
    "print(result)\n",
    "result.pvalue<.05"
   ]
  },
  {
   "cell_type": "markdown",
   "id": "509ac5c0",
   "metadata": {},
   "source": [
    "- We reject the null hypothesis and support that there is a significant difference between revenue and the rating of a movie."
   ]
  },
  {
   "cell_type": "markdown",
   "id": "435d6a08",
   "metadata": {},
   "source": [
    "- $H_0$ (Null Hypothesis): There is no significant difference between revenue and the length of a movie.\n",
    "- $H_A$ (Alternative Hypothesis):  There is a significant difference between revenue and the length of a movie."
   ]
  },
  {
   "cell_type": "markdown",
   "id": "26c1d0ed",
   "metadata": {},
   "source": [
    "###  Determine the correct test to perform.\n",
    "- Type of Data? numeric\n",
    "- How many groups/samples? 2 groups\n",
    "- Therefore, which test is appropriate? 2 sample t-test"
   ]
  },
  {
   "cell_type": "code",
   "execution_count": null,
   "id": "040a0c65",
   "metadata": {},
   "outputs": [],
   "source": [
    "tmdb_df['runtime'].value_counts()"
   ]
  },
  {
   "cell_type": "code",
   "execution_count": null,
   "id": "7aa06687",
   "metadata": {},
   "outputs": [],
   "source": [
    "tmdb_df['longer_movie'] = tmdb_df['runtime'] >= 150"
   ]
  },
  {
   "cell_type": "code",
   "execution_count": null,
   "id": "53ceae89",
   "metadata": {},
   "outputs": [],
   "source": [
    "tmdb_df['longer_movie'].value_counts"
   ]
  },
  {
   "cell_type": "code",
   "execution_count": null,
   "id": "b7c1dee9",
   "metadata": {},
   "outputs": [],
   "source": [
    "## save list of columns needed for each group\n",
    "needed_cols = ['longer_movie', 'revenue']"
   ]
  },
  {
   "cell_type": "code",
   "execution_count": null,
   "id": "68670647",
   "metadata": {},
   "outputs": [],
   "source": [
    "## save male team in separate variable\n",
    "longer_movie_df = tmdb_df.loc[tmdb_df['longer_movie']==True, needed_cols]\n",
    "longer_movie_df"
   ]
  },
  {
   "cell_type": "code",
   "execution_count": null,
   "id": "c0876888",
   "metadata": {},
   "outputs": [],
   "source": [
    "## save male team in separate variable\n",
    "shorter_movie_df = tmdb_df.loc[tmdb_df['longer_movie']==False, needed_cols]\n",
    "shorter_movie_df"
   ]
  },
  {
   "cell_type": "code",
   "execution_count": null,
   "id": "0a06c120",
   "metadata": {},
   "outputs": [],
   "source": [
    "## Make a df just for visualization by concat the groups \n",
    "plot_df =  pd.concat([shorter_movie_df, longer_movie_df])\n",
    "plot_df"
   ]
  },
  {
   "cell_type": "code",
   "execution_count": null,
   "id": "b65c4211",
   "metadata": {},
   "outputs": [],
   "source": [
    "## visualize the group means\n",
    "sns.barplot(data=plot_df, x='longer_movie', y='revenue')"
   ]
  },
  {
   "cell_type": "code",
   "execution_count": null,
   "id": "5061922e",
   "metadata": {},
   "outputs": [],
   "source": [
    "## Saving JUST the numeric col as final group variables\n",
    "longer_movie_group = longer_movie_df['revenue']\n",
    "shorter_movie_group = shorter_movie_df['revenue']\n",
    "longer_movie_group"
   ]
  },
  {
   "cell_type": "code",
   "execution_count": null,
   "id": "e1f73c45",
   "metadata": {},
   "outputs": [],
   "source": [
    "## Check smoker group for outliers\n",
    "longer_movie_outliers = np.abs(stats.zscore(longer_movie_group)) > 3\n",
    "\n",
    "## how many outliers?\n",
    "longer_movie_outliers.sum()"
   ]
  },
  {
   "cell_type": "code",
   "execution_count": null,
   "id": "0597db91",
   "metadata": {},
   "outputs": [],
   "source": [
    "## Check smoker group for outliers\n",
    "shorter_movie_outliers = np.abs(stats.zscore(shorter_movie_group)) > 3\n",
    "\n",
    "## how many outliers?\n",
    "shorter_movie_outliers.sum()"
   ]
  },
  {
   "cell_type": "code",
   "execution_count": null,
   "id": "a313e80c",
   "metadata": {},
   "outputs": [],
   "source": [
    "## remove outliers from female_group\n",
    "shorter_movie_group = shorter_movie_group.loc[~shorter_movie_outliers]\n",
    "shorter_movie_group"
   ]
  },
  {
   "cell_type": "code",
   "execution_count": null,
   "id": "5718dc2f",
   "metadata": {},
   "outputs": [],
   "source": [
    "result = stats.normaltest(longer_movie_group)\n",
    "print(result.pvalue)\n",
    "result.pvalue < .05"
   ]
  },
  {
   "cell_type": "code",
   "execution_count": null,
   "id": "e1d31a49",
   "metadata": {},
   "outputs": [],
   "source": [
    "len(longer_movie_group)"
   ]
  },
  {
   "cell_type": "code",
   "execution_count": null,
   "id": "e6c8b8b1",
   "metadata": {},
   "outputs": [],
   "source": [
    "result = stats.normaltest(shorter_movie_group)\n",
    "result.pvalue < .05"
   ]
  },
  {
   "cell_type": "code",
   "execution_count": null,
   "id": "5e2a6627",
   "metadata": {},
   "outputs": [],
   "source": [
    "len(shorter_movie_group)"
   ]
  },
  {
   "cell_type": "markdown",
   "id": "782355b7",
   "metadata": {},
   "source": [
    "- We fail to reject the null hypothesis that there is no statistical difference between the longer_movie_group and a normal distribution. \n",
    "- We reject the null hypothesis and conclude that there is a statistical difference between the shorter_movie_group and a normal distribution."
   ]
  },
  {
   "cell_type": "code",
   "execution_count": null,
   "id": "cd38e78b",
   "metadata": {},
   "outputs": [],
   "source": [
    "## Use Levene's test for equal variance\n",
    "result = stats.levene(longer_movie_group, shorter_movie_group)\n",
    "print(result)"
   ]
  },
  {
   "cell_type": "code",
   "execution_count": null,
   "id": "20070802",
   "metadata": {},
   "outputs": [],
   "source": [
    "## Use an if-else to help interpret the p-value\n",
    "if result.pvalue < 0.5:\n",
    "    print(f'The groups do NOT have equal variance.')\n",
    "else:\n",
    "    print(f'the groups DO have equal variance.')"
   ]
  },
  {
   "cell_type": "code",
   "execution_count": null,
   "id": "66b988d6",
   "metadata": {},
   "outputs": [],
   "source": [
    "## run final hypothess test\n",
    "result = stats.ttest_ind(longer_movie_group, shorter_movie_group, equal_var=False)\n",
    "print(result)\n",
    "result.pvalue < 0.05"
   ]
  },
  {
   "cell_type": "markdown",
   "id": "0f56b143",
   "metadata": {},
   "source": [
    "- We fail to reject the null hypothesis that there is no significant difference between revenue and the length of a movie."
   ]
  },
  {
   "cell_type": "code",
   "execution_count": null,
   "id": "17d126e8",
   "metadata": {},
   "outputs": [],
   "source": []
  }
 ],
 "metadata": {
  "kernelspec": {
   "display_name": "Python (dojo-env)",
   "language": "python",
   "name": "dojo-env"
  },
  "language_info": {
   "codemirror_mode": {
    "name": "ipython",
    "version": 3
   },
   "file_extension": ".py",
   "mimetype": "text/x-python",
   "name": "python",
   "nbconvert_exporter": "python",
   "pygments_lexer": "ipython3",
   "version": "3.9.15"
  },
  "toc": {
   "base_numbering": 1,
   "nav_menu": {},
   "number_sections": false,
   "sideBar": true,
   "skip_h1_title": false,
   "title_cell": "Table of Contents",
   "title_sidebar": "Contents",
   "toc_cell": false,
   "toc_position": {},
   "toc_section_display": true,
   "toc_window_display": false
  }
 },
 "nbformat": 4,
 "nbformat_minor": 5
}
